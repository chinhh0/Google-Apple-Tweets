{
 "cells": [
  {
   "cell_type": "markdown",
   "metadata": {},
   "source": [
    "## Project 4: NLP: Google and Apple Sentiment Analysis\n",
    "### Part 1: EDA and Data Viz"
   ]
  },
  {
   "cell_type": "markdown",
   "metadata": {},
   "source": [
    "#### Introduction & Business Case\n",
    "Welcome to the Phase 4 Project from Mark and Tim. \n",
    "We are MT Head: A marketing and PR firm that works with tech companies like Apple and Google. \n",
    "We help companies identify marketing and PR needs; product information requirements; alert them to possible customer service issues; and provide ideas for product teams (changes to features or new features and products).\n",
    "\n",
    "Let’s do a little bit of time travel. The time is 2011. The place is Austin, Texas. The event is SXSW: the big music, movie, and tech conference. We have been hired to gather information on how conference attendees (at SXSW Interactive) are feeling about our clients products and services  - specifically Apple and Google. One way we have chosen to do that is to examine tweets during the conference. We are specifically interested in those tweets that are positive in nature (as this can tell us where the companies mission and products are resonating well with audiences) and tweets that are negative (so we can tell our clients where they need to change their messaging or products). \n",
    "For context, 2011 is when the iPad 2 came out; this is just after the Japan earthquake/tsunami/nuclear disaster occurred; Marisa Mayer (Google and Yahoo fame) was one of the speakers; etc.\n"
   ]
  },
  {
   "cell_type": "markdown",
   "metadata": {},
   "source": [
    "#### The Data\n",
    "In this project we used the dataset provided for the project. It is a set of tweets from 2011 during the SXSW Conference. The set includes 9093 tweets. Human raters first classified whether the tweet expressed a sentiment (3,548 were either poositive or negative, with the remainer being \"none\" or \"can't tell\"). Then, if an emotion was expressed, the human raters indicated whether the tweet was directed to either Apple or Google in general (1,091) or to a specific product from Apple (1,748) or Google (452). \n",
    "\n",
    "We started with a set of 9,093 tweets > narrowed down to 3,182\n",
    "Focus on positive and negative sentiment only (not neutrals)\n",
    "Focus on just tweets with product or company mentioned (Apple, Google)\n",
    "\n",
    "Advantages of tweets: \n",
    "* timely\n",
    "* event focused\n",
    "* potentially lots of data (tweets) from many people\n",
    "* limited length (so limits size of dataset)\n",
    "\n",
    "Disadvantages of tweets: \n",
    "* Limited length often means limited context and understandability\n",
    "* Special characters and shorthand writing style can make it hard to tell meaning\n",
    "* Tweets at a conference can span a lot of irrelevent topics - travel, entertainment, free stuff, food\n",
    "* Unsure of legitimacy of poster and accuracy of information\n"
   ]
  },
  {
   "cell_type": "code",
   "execution_count": 1,
   "metadata": {},
   "outputs": [
    {
     "name": "stderr",
     "output_type": "stream",
     "text": [
      "[nltk_data] Downloading package punkt to /Users/markp/nltk_data...\n",
      "[nltk_data]   Package punkt is already up-to-date!\n"
     ]
    }
   ],
   "source": [
    "# Load the relevant libraries and modules\n",
    "import pandas as pd\n",
    "import numpy as np\n",
    "from matplotlib import pyplot as plt\n",
    "import seaborn as sns\n",
    "\n",
    "import nltk\n",
    "from nltk.tokenize import word_tokenize, sent_tokenize \n",
    "nltk.download('punkt')\n",
    "from nltk.corpus import stopwords\n",
    "import string\n",
    "from nltk import FreqDist\n",
    "\n",
    "from sklearn.feature_extraction.text import TfidfVectorizer\n",
    "from sklearn.metrics import accuracy_score\n",
    "from sklearn.ensemble import RandomForestClassifier\n",
    "from sklearn.naive_bayes import MultinomialNB\n",
    "\n",
    "from sklearn.tree import DecisionTreeClassifier\n",
    "from sklearn.model_selection import train_test_split\n",
    "from sklearn.metrics import r2_score, explained_variance_score, confusion_matrix, accuracy_score, classification_report, log_loss\n",
    "from math import sqrt\n",
    "\n",
    "%matplotlib inline\n",
    "\n",
    "# Set the basic plotting size; Increases the size of sns plots\n",
    "sns.set(rc={'figure.figsize':(12,10)})\n",
    "pd.set_option('display.max_columns', None)\n"
   ]
  },
  {
   "cell_type": "code",
   "execution_count": 3,
   "metadata": {},
   "outputs": [
    {
     "name": "stdout",
     "output_type": "stream",
     "text": [
      "<class 'pandas.core.frame.DataFrame'>\n",
      "RangeIndex: 9093 entries, 0 to 9092\n",
      "Data columns (total 3 columns):\n",
      "tweet_text                                            9092 non-null object\n",
      "emotion_in_tweet_is_directed_at                       3291 non-null object\n",
      "is_there_an_emotion_directed_at_a_brand_or_product    9093 non-null object\n",
      "dtypes: object(3)\n",
      "memory usage: 213.2+ KB\n"
     ]
    }
   ],
   "source": [
    "# Load the dataset (had to find correct coding to eliminate load error)\n",
    "raw = pd.read_csv('tweet_product_company.csv', encoding = \"ISO-8859-1\")\n",
    "raw.info()"
   ]
  },
  {
   "cell_type": "code",
   "execution_count": 4,
   "metadata": {},
   "outputs": [
    {
     "data": {
      "text/plain": [
       "(9093, 3)"
      ]
     },
     "execution_count": 4,
     "metadata": {},
     "output_type": "execute_result"
    }
   ],
   "source": [
    "raw.shape"
   ]
  },
  {
   "cell_type": "code",
   "execution_count": 5,
   "metadata": {},
   "outputs": [
    {
     "data": {
      "text/html": [
       "<div>\n",
       "<style scoped>\n",
       "    .dataframe tbody tr th:only-of-type {\n",
       "        vertical-align: middle;\n",
       "    }\n",
       "\n",
       "    .dataframe tbody tr th {\n",
       "        vertical-align: top;\n",
       "    }\n",
       "\n",
       "    .dataframe thead th {\n",
       "        text-align: right;\n",
       "    }\n",
       "</style>\n",
       "<table border=\"1\" class=\"dataframe\">\n",
       "  <thead>\n",
       "    <tr style=\"text-align: right;\">\n",
       "      <th></th>\n",
       "      <th>tweet_text</th>\n",
       "      <th>emotion_in_tweet_is_directed_at</th>\n",
       "      <th>is_there_an_emotion_directed_at_a_brand_or_product</th>\n",
       "    </tr>\n",
       "  </thead>\n",
       "  <tbody>\n",
       "    <tr>\n",
       "      <th>0</th>\n",
       "      <td>.@wesley83 I have a 3G iPhone. After 3 hrs twe...</td>\n",
       "      <td>iPhone</td>\n",
       "      <td>Negative emotion</td>\n",
       "    </tr>\n",
       "    <tr>\n",
       "      <th>1</th>\n",
       "      <td>@jessedee Know about @fludapp ? Awesome iPad/i...</td>\n",
       "      <td>iPad or iPhone App</td>\n",
       "      <td>Positive emotion</td>\n",
       "    </tr>\n",
       "    <tr>\n",
       "      <th>2</th>\n",
       "      <td>@swonderlin Can not wait for #iPad 2 also. The...</td>\n",
       "      <td>iPad</td>\n",
       "      <td>Positive emotion</td>\n",
       "    </tr>\n",
       "    <tr>\n",
       "      <th>3</th>\n",
       "      <td>@sxsw I hope this year's festival isn't as cra...</td>\n",
       "      <td>iPad or iPhone App</td>\n",
       "      <td>Negative emotion</td>\n",
       "    </tr>\n",
       "    <tr>\n",
       "      <th>4</th>\n",
       "      <td>@sxtxstate great stuff on Fri #SXSW: Marissa M...</td>\n",
       "      <td>Google</td>\n",
       "      <td>Positive emotion</td>\n",
       "    </tr>\n",
       "  </tbody>\n",
       "</table>\n",
       "</div>"
      ],
      "text/plain": [
       "                                          tweet_text  \\\n",
       "0  .@wesley83 I have a 3G iPhone. After 3 hrs twe...   \n",
       "1  @jessedee Know about @fludapp ? Awesome iPad/i...   \n",
       "2  @swonderlin Can not wait for #iPad 2 also. The...   \n",
       "3  @sxsw I hope this year's festival isn't as cra...   \n",
       "4  @sxtxstate great stuff on Fri #SXSW: Marissa M...   \n",
       "\n",
       "  emotion_in_tweet_is_directed_at  \\\n",
       "0                          iPhone   \n",
       "1              iPad or iPhone App   \n",
       "2                            iPad   \n",
       "3              iPad or iPhone App   \n",
       "4                          Google   \n",
       "\n",
       "  is_there_an_emotion_directed_at_a_brand_or_product  \n",
       "0                                   Negative emotion  \n",
       "1                                   Positive emotion  \n",
       "2                                   Positive emotion  \n",
       "3                                   Negative emotion  \n",
       "4                                   Positive emotion  "
      ]
     },
     "execution_count": 5,
     "metadata": {},
     "output_type": "execute_result"
    }
   ],
   "source": [
    "raw.head()"
   ]
  },
  {
   "cell_type": "code",
   "execution_count": 6,
   "metadata": {},
   "outputs": [],
   "source": [
    "# Simplify column names\n",
    "raw.rename(columns={'tweet_text': 'text', 'emotion_in_tweet_is_directed_at': 'brand', 'is_there_an_emotion_directed_at_a_brand_or_product': 'feelings'}, inplace=True)"
   ]
  },
  {
   "cell_type": "code",
   "execution_count": 7,
   "metadata": {},
   "outputs": [
    {
     "data": {
      "text/html": [
       "<div>\n",
       "<style scoped>\n",
       "    .dataframe tbody tr th:only-of-type {\n",
       "        vertical-align: middle;\n",
       "    }\n",
       "\n",
       "    .dataframe tbody tr th {\n",
       "        vertical-align: top;\n",
       "    }\n",
       "\n",
       "    .dataframe thead th {\n",
       "        text-align: right;\n",
       "    }\n",
       "</style>\n",
       "<table border=\"1\" class=\"dataframe\">\n",
       "  <thead>\n",
       "    <tr style=\"text-align: right;\">\n",
       "      <th></th>\n",
       "      <th>text</th>\n",
       "      <th>brand</th>\n",
       "      <th>feelings</th>\n",
       "    </tr>\n",
       "  </thead>\n",
       "  <tbody>\n",
       "    <tr>\n",
       "      <th>0</th>\n",
       "      <td>.@wesley83 I have a 3G iPhone. After 3 hrs twe...</td>\n",
       "      <td>iPhone</td>\n",
       "      <td>Negative emotion</td>\n",
       "    </tr>\n",
       "    <tr>\n",
       "      <th>1</th>\n",
       "      <td>@jessedee Know about @fludapp ? Awesome iPad/i...</td>\n",
       "      <td>iPad or iPhone App</td>\n",
       "      <td>Positive emotion</td>\n",
       "    </tr>\n",
       "    <tr>\n",
       "      <th>2</th>\n",
       "      <td>@swonderlin Can not wait for #iPad 2 also. The...</td>\n",
       "      <td>iPad</td>\n",
       "      <td>Positive emotion</td>\n",
       "    </tr>\n",
       "    <tr>\n",
       "      <th>3</th>\n",
       "      <td>@sxsw I hope this year's festival isn't as cra...</td>\n",
       "      <td>iPad or iPhone App</td>\n",
       "      <td>Negative emotion</td>\n",
       "    </tr>\n",
       "    <tr>\n",
       "      <th>4</th>\n",
       "      <td>@sxtxstate great stuff on Fri #SXSW: Marissa M...</td>\n",
       "      <td>Google</td>\n",
       "      <td>Positive emotion</td>\n",
       "    </tr>\n",
       "  </tbody>\n",
       "</table>\n",
       "</div>"
      ],
      "text/plain": [
       "                                                text               brand  \\\n",
       "0  .@wesley83 I have a 3G iPhone. After 3 hrs twe...              iPhone   \n",
       "1  @jessedee Know about @fludapp ? Awesome iPad/i...  iPad or iPhone App   \n",
       "2  @swonderlin Can not wait for #iPad 2 also. The...                iPad   \n",
       "3  @sxsw I hope this year's festival isn't as cra...  iPad or iPhone App   \n",
       "4  @sxtxstate great stuff on Fri #SXSW: Marissa M...              Google   \n",
       "\n",
       "           feelings  \n",
       "0  Negative emotion  \n",
       "1  Positive emotion  \n",
       "2  Positive emotion  \n",
       "3  Negative emotion  \n",
       "4  Positive emotion  "
      ]
     },
     "execution_count": 7,
     "metadata": {},
     "output_type": "execute_result"
    }
   ],
   "source": [
    "raw.head()"
   ]
  },
  {
   "cell_type": "code",
   "execution_count": 8,
   "metadata": {},
   "outputs": [
    {
     "data": {
      "text/plain": [
       "No emotion toward brand or product    5389\n",
       "Positive emotion                      2978\n",
       "Negative emotion                       570\n",
       "I can't tell                           156\n",
       "Name: feelings, dtype: int64"
      ]
     },
     "execution_count": 8,
     "metadata": {},
     "output_type": "execute_result"
    }
   ],
   "source": [
    "# Examine our class values - feelings\n",
    "raw['feelings'].value_counts()"
   ]
  },
  {
   "cell_type": "code",
   "execution_count": 9,
   "metadata": {},
   "outputs": [
    {
     "data": {
      "text/plain": [
       "iPad                               946\n",
       "Apple                              661\n",
       "iPad or iPhone App                 470\n",
       "Google                             430\n",
       "iPhone                             297\n",
       "Other Google product or service    293\n",
       "Android App                         81\n",
       "Android                             78\n",
       "Other Apple product or service      35\n",
       "Name: brand, dtype: int64"
      ]
     },
     "execution_count": 9,
     "metadata": {},
     "output_type": "execute_result"
    }
   ],
   "source": [
    "raw['brand'].value_counts()"
   ]
  },
  {
   "cell_type": "code",
   "execution_count": 10,
   "metadata": {},
   "outputs": [
    {
     "name": "stdout",
     "output_type": "stream",
     "text": [
      "Columns with null values\n"
     ]
    },
    {
     "data": {
      "text/plain": [
       "text           1\n",
       "brand       5802\n",
       "feelings       0\n",
       "dtype: int64"
      ]
     },
     "metadata": {},
     "output_type": "display_data"
    }
   ],
   "source": [
    "# Check for null values - recall that brand was only assigned for positive and negative tweets. \n",
    "print(\"Columns with null values\")\n",
    "display(raw.isnull().sum())"
   ]
  },
  {
   "cell_type": "code",
   "execution_count": 11,
   "metadata": {},
   "outputs": [
    {
     "data": {
      "text/plain": [
       "(22, 3)"
      ]
     },
     "execution_count": 11,
     "metadata": {},
     "output_type": "execute_result"
    }
   ],
   "source": [
    "# Check for duplicated rows\n",
    "duplicate = raw[raw.duplicated()]\n",
    "duplicate.shape"
   ]
  },
  {
   "cell_type": "code",
   "execution_count": 12,
   "metadata": {},
   "outputs": [
    {
     "data": {
      "text/html": [
       "<div>\n",
       "<style scoped>\n",
       "    .dataframe tbody tr th:only-of-type {\n",
       "        vertical-align: middle;\n",
       "    }\n",
       "\n",
       "    .dataframe tbody tr th {\n",
       "        vertical-align: top;\n",
       "    }\n",
       "\n",
       "    .dataframe thead th {\n",
       "        text-align: right;\n",
       "    }\n",
       "</style>\n",
       "<table border=\"1\" class=\"dataframe\">\n",
       "  <thead>\n",
       "    <tr style=\"text-align: right;\">\n",
       "      <th></th>\n",
       "      <th>text</th>\n",
       "      <th>brand</th>\n",
       "      <th>feelings</th>\n",
       "    </tr>\n",
       "  </thead>\n",
       "  <tbody>\n",
       "    <tr>\n",
       "      <th>468</th>\n",
       "      <td>Before It Even Begins, Apple Wins #SXSW {link}</td>\n",
       "      <td>Apple</td>\n",
       "      <td>Positive emotion</td>\n",
       "    </tr>\n",
       "    <tr>\n",
       "      <th>776</th>\n",
       "      <td>Google to Launch Major New Social Network Call...</td>\n",
       "      <td>NaN</td>\n",
       "      <td>No emotion toward brand or product</td>\n",
       "    </tr>\n",
       "    <tr>\n",
       "      <th>2232</th>\n",
       "      <td>Marissa Mayer: Google Will Connect the Digital...</td>\n",
       "      <td>NaN</td>\n",
       "      <td>No emotion toward brand or product</td>\n",
       "    </tr>\n",
       "    <tr>\n",
       "      <th>2559</th>\n",
       "      <td>Counting down the days to #sxsw plus strong Ca...</td>\n",
       "      <td>Apple</td>\n",
       "      <td>Positive emotion</td>\n",
       "    </tr>\n",
       "    <tr>\n",
       "      <th>3950</th>\n",
       "      <td>Really enjoying the changes in Gowalla 3.0 for...</td>\n",
       "      <td>Android App</td>\n",
       "      <td>Positive emotion</td>\n",
       "    </tr>\n",
       "    <tr>\n",
       "      <th>3962</th>\n",
       "      <td>#SXSW is just starting, #CTIA is around the co...</td>\n",
       "      <td>Android</td>\n",
       "      <td>Positive emotion</td>\n",
       "    </tr>\n",
       "    <tr>\n",
       "      <th>4897</th>\n",
       "      <td>Oh. My. God. The #SXSW app for iPad is pure, u...</td>\n",
       "      <td>iPad or iPhone App</td>\n",
       "      <td>Positive emotion</td>\n",
       "    </tr>\n",
       "    <tr>\n",
       "      <th>5338</th>\n",
       "      <td>RT @mention ÷¼ GO BEYOND BORDERS! ÷_ {link} ...</td>\n",
       "      <td>NaN</td>\n",
       "      <td>No emotion toward brand or product</td>\n",
       "    </tr>\n",
       "    <tr>\n",
       "      <th>5341</th>\n",
       "      <td>RT @mention ÷¼ Happy Woman's Day! Make love, ...</td>\n",
       "      <td>NaN</td>\n",
       "      <td>No emotion toward brand or product</td>\n",
       "    </tr>\n",
       "    <tr>\n",
       "      <th>5881</th>\n",
       "      <td>RT @mention Google to Launch Major New Social ...</td>\n",
       "      <td>NaN</td>\n",
       "      <td>No emotion toward brand or product</td>\n",
       "    </tr>\n",
       "    <tr>\n",
       "      <th>5882</th>\n",
       "      <td>RT @mention Google to Launch Major New Social ...</td>\n",
       "      <td>NaN</td>\n",
       "      <td>No emotion toward brand or product</td>\n",
       "    </tr>\n",
       "    <tr>\n",
       "      <th>5883</th>\n",
       "      <td>RT @mention Google to Launch Major New Social ...</td>\n",
       "      <td>NaN</td>\n",
       "      <td>No emotion toward brand or product</td>\n",
       "    </tr>\n",
       "    <tr>\n",
       "      <th>5884</th>\n",
       "      <td>RT @mention Google to Launch Major New Social ...</td>\n",
       "      <td>NaN</td>\n",
       "      <td>No emotion toward brand or product</td>\n",
       "    </tr>\n",
       "    <tr>\n",
       "      <th>5885</th>\n",
       "      <td>RT @mention Google to Launch Major New Social ...</td>\n",
       "      <td>NaN</td>\n",
       "      <td>No emotion toward brand or product</td>\n",
       "    </tr>\n",
       "    <tr>\n",
       "      <th>6296</th>\n",
       "      <td>RT @mention Marissa Mayer: Google Will Connect...</td>\n",
       "      <td>Google</td>\n",
       "      <td>Positive emotion</td>\n",
       "    </tr>\n",
       "    <tr>\n",
       "      <th>6297</th>\n",
       "      <td>RT @mention Marissa Mayer: Google Will Connect...</td>\n",
       "      <td>NaN</td>\n",
       "      <td>No emotion toward brand or product</td>\n",
       "    </tr>\n",
       "    <tr>\n",
       "      <th>6298</th>\n",
       "      <td>RT @mention Marissa Mayer: Google Will Connect...</td>\n",
       "      <td>Google</td>\n",
       "      <td>Positive emotion</td>\n",
       "    </tr>\n",
       "    <tr>\n",
       "      <th>6299</th>\n",
       "      <td>RT @mention Marissa Mayer: Google Will Connect...</td>\n",
       "      <td>NaN</td>\n",
       "      <td>No emotion toward brand or product</td>\n",
       "    </tr>\n",
       "    <tr>\n",
       "      <th>6300</th>\n",
       "      <td>RT @mention Marissa Mayer: Google Will Connect...</td>\n",
       "      <td>NaN</td>\n",
       "      <td>No emotion toward brand or product</td>\n",
       "    </tr>\n",
       "    <tr>\n",
       "      <th>6546</th>\n",
       "      <td>RT @mention RT @mention Google to Launch Major...</td>\n",
       "      <td>NaN</td>\n",
       "      <td>No emotion toward brand or product</td>\n",
       "    </tr>\n",
       "    <tr>\n",
       "      <th>8483</th>\n",
       "      <td>I just noticed DST is coming this weekend. How...</td>\n",
       "      <td>iPhone</td>\n",
       "      <td>Negative emotion</td>\n",
       "    </tr>\n",
       "    <tr>\n",
       "      <th>8747</th>\n",
       "      <td>Need to buy an iPad2 while I'm in Austin at #s...</td>\n",
       "      <td>iPad</td>\n",
       "      <td>Positive emotion</td>\n",
       "    </tr>\n",
       "  </tbody>\n",
       "</table>\n",
       "</div>"
      ],
      "text/plain": [
       "                                                   text               brand  \\\n",
       "468      Before It Even Begins, Apple Wins #SXSW {link}               Apple   \n",
       "776   Google to Launch Major New Social Network Call...                 NaN   \n",
       "2232  Marissa Mayer: Google Will Connect the Digital...                 NaN   \n",
       "2559  Counting down the days to #sxsw plus strong Ca...               Apple   \n",
       "3950  Really enjoying the changes in Gowalla 3.0 for...         Android App   \n",
       "3962  #SXSW is just starting, #CTIA is around the co...             Android   \n",
       "4897  Oh. My. God. The #SXSW app for iPad is pure, u...  iPad or iPhone App   \n",
       "5338  RT @mention ÷¼ GO BEYOND BORDERS! ÷_ {link} ...                 NaN   \n",
       "5341  RT @mention ÷¼ Happy Woman's Day! Make love, ...                 NaN   \n",
       "5881  RT @mention Google to Launch Major New Social ...                 NaN   \n",
       "5882  RT @mention Google to Launch Major New Social ...                 NaN   \n",
       "5883  RT @mention Google to Launch Major New Social ...                 NaN   \n",
       "5884  RT @mention Google to Launch Major New Social ...                 NaN   \n",
       "5885  RT @mention Google to Launch Major New Social ...                 NaN   \n",
       "6296  RT @mention Marissa Mayer: Google Will Connect...              Google   \n",
       "6297  RT @mention Marissa Mayer: Google Will Connect...                 NaN   \n",
       "6298  RT @mention Marissa Mayer: Google Will Connect...              Google   \n",
       "6299  RT @mention Marissa Mayer: Google Will Connect...                 NaN   \n",
       "6300  RT @mention Marissa Mayer: Google Will Connect...                 NaN   \n",
       "6546  RT @mention RT @mention Google to Launch Major...                 NaN   \n",
       "8483  I just noticed DST is coming this weekend. How...              iPhone   \n",
       "8747  Need to buy an iPad2 while I'm in Austin at #s...                iPad   \n",
       "\n",
       "                                feelings  \n",
       "468                     Positive emotion  \n",
       "776   No emotion toward brand or product  \n",
       "2232  No emotion toward brand or product  \n",
       "2559                    Positive emotion  \n",
       "3950                    Positive emotion  \n",
       "3962                    Positive emotion  \n",
       "4897                    Positive emotion  \n",
       "5338  No emotion toward brand or product  \n",
       "5341  No emotion toward brand or product  \n",
       "5881  No emotion toward brand or product  \n",
       "5882  No emotion toward brand or product  \n",
       "5883  No emotion toward brand or product  \n",
       "5884  No emotion toward brand or product  \n",
       "5885  No emotion toward brand or product  \n",
       "6296                    Positive emotion  \n",
       "6297  No emotion toward brand or product  \n",
       "6298                    Positive emotion  \n",
       "6299  No emotion toward brand or product  \n",
       "6300  No emotion toward brand or product  \n",
       "6546  No emotion toward brand or product  \n",
       "8483                    Negative emotion  \n",
       "8747                    Positive emotion  "
      ]
     },
     "execution_count": 12,
     "metadata": {},
     "output_type": "execute_result"
    }
   ],
   "source": [
    "duplicate"
   ]
  },
  {
   "cell_type": "markdown",
   "metadata": {},
   "source": [
    "### Data cleanup and simplificiation\n",
    "To keep things simple, we will narrow down the classes... just positive or negative sentiment, and I will collapse all specific products into just the 2 brands = Apple or Google."
   ]
  },
  {
   "cell_type": "code",
   "execution_count": 13,
   "metadata": {},
   "outputs": [],
   "source": [
    "raw2 = raw"
   ]
  },
  {
   "cell_type": "code",
   "execution_count": 14,
   "metadata": {},
   "outputs": [],
   "source": [
    "# Brand consolidation step\n",
    "company = {'iPad': 'Apple',\n",
    "            'Apple': 'Apple',\n",
    "            'iPad or iPhone App': 'Apple',\n",
    "            'Google': 'Google',\n",
    "            'iPhone': 'Apple',\n",
    "            'Other Google product or service': 'Google',\n",
    "            'Android App': 'Google',\n",
    "            'Android': 'Google',\n",
    "            'Other Apple product or service': 'Apple'}\n",
    "raw2['brand'] = raw2['brand'].map(company)"
   ]
  },
  {
   "cell_type": "code",
   "execution_count": 15,
   "metadata": {},
   "outputs": [
    {
     "data": {
      "text/plain": [
       "Apple     2409\n",
       "Google     882\n",
       "Name: brand, dtype: int64"
      ]
     },
     "execution_count": 15,
     "metadata": {},
     "output_type": "execute_result"
    }
   ],
   "source": [
    "raw2['brand'].value_counts()"
   ]
  },
  {
   "cell_type": "code",
   "execution_count": 16,
   "metadata": {},
   "outputs": [],
   "source": [
    "raw3 = raw2"
   ]
  },
  {
   "cell_type": "code",
   "execution_count": 17,
   "metadata": {},
   "outputs": [
    {
     "data": {
      "text/plain": [
       "Positive emotion    2978\n",
       "Negative emotion     570\n",
       "Name: feelings, dtype: int64"
      ]
     },
     "execution_count": 17,
     "metadata": {},
     "output_type": "execute_result"
    }
   ],
   "source": [
    "# Feelings class simplification (drop 2)\n",
    "raw3.drop(raw3[raw3['feelings'] == \"I can't tell\"].index, inplace = True)\n",
    "raw3.drop(raw3[raw3['feelings'] == \"No emotion toward brand or product\"].index, inplace = True)\n",
    "raw3['feelings'].value_counts()"
   ]
  },
  {
   "cell_type": "code",
   "execution_count": 18,
   "metadata": {},
   "outputs": [],
   "source": [
    "# Change 'feelings' to numeric labels\n",
    "feels = {'Negative emotion': 0,'Positive emotion': 1,}\n",
    "raw3['feelings'] = raw3['feelings'].map(feels)"
   ]
  },
  {
   "cell_type": "code",
   "execution_count": 19,
   "metadata": {},
   "outputs": [
    {
     "name": "stdout",
     "output_type": "stream",
     "text": [
      "1    2978\n",
      "0     570\n",
      "Name: feelings, dtype: int64\n"
     ]
    },
    {
     "data": {
      "text/plain": [
       "<AxesSubplot:xlabel='feelings', ylabel='count'>"
      ]
     },
     "execution_count": 19,
     "metadata": {},
     "output_type": "execute_result"
    },
    {
     "data": {
      "image/png": "[encoded data removed]",
      "text/plain": [
       "<Figure size 432x288 with 1 Axes>"
      ]
     },
     "metadata": {
      "needs_background": "light"
     },
     "output_type": "display_data"
    }
   ],
   "source": [
    "# Doing some visualization of our classes: not very balanced.\n",
    "print (raw3['feelings'].value_counts())\n",
    "sns.countplot(x = 'feelings', data = raw3)"
   ]
  },
  {
   "cell_type": "code",
   "execution_count": 20,
   "metadata": {},
   "outputs": [
    {
     "name": "stdout",
     "output_type": "stream",
     "text": [
      "Apple     2337\n",
      "Google     854\n",
      "Name: brand, dtype: int64\n"
     ]
    },
    {
     "data": {
      "text/plain": [
       "<AxesSubplot:xlabel='brand', ylabel='count'>"
      ]
     },
     "execution_count": 20,
     "metadata": {},
     "output_type": "execute_result"
    },
    {
     "data": {
      "image/png": "[encoded data removed]",
      "text/plain": [
       "<Figure size 432x288 with 1 Axes>"
      ]
     },
     "metadata": {
      "needs_background": "light"
     },
     "output_type": "display_data"
    }
   ],
   "source": [
    "print (raw3['brand'].value_counts())\n",
    "sns.countplot(x = 'brand', data = raw3)"
   ]
  },
  {
   "cell_type": "code",
   "execution_count": 21,
   "metadata": {},
   "outputs": [
    {
     "data": {
      "text/plain": [
       "<AxesSubplot:xlabel='brand'>"
      ]
     },
     "execution_count": 21,
     "metadata": {},
     "output_type": "execute_result"
    },
    {
     "data": {
      "image/png": "[encoded data removed]",
      "text/plain": [
       "<Figure size 432x288 with 1 Axes>"
      ]
     },
     "metadata": {
      "needs_background": "light"
     },
     "output_type": "display_data"
    }
   ],
   "source": [
    "pd.crosstab(raw3['brand'],raw3['feelings']).plot.bar()"
   ]
  },
  {
   "cell_type": "code",
   "execution_count": 22,
   "metadata": {},
   "outputs": [
    {
     "data": {
      "text/html": [
       "<div>\n",
       "<style scoped>\n",
       "    .dataframe tbody tr th:only-of-type {\n",
       "        vertical-align: middle;\n",
       "    }\n",
       "\n",
       "    .dataframe tbody tr th {\n",
       "        vertical-align: top;\n",
       "    }\n",
       "\n",
       "    .dataframe thead th {\n",
       "        text-align: right;\n",
       "    }\n",
       "</style>\n",
       "<table border=\"1\" class=\"dataframe\">\n",
       "  <thead>\n",
       "    <tr style=\"text-align: right;\">\n",
       "      <th></th>\n",
       "      <th>text</th>\n",
       "      <th>brand</th>\n",
       "      <th>feelings</th>\n",
       "    </tr>\n",
       "  </thead>\n",
       "  <tbody>\n",
       "    <tr>\n",
       "      <th>0</th>\n",
       "      <td>.@wesley83 I have a 3G iPhone. After 3 hrs twe...</td>\n",
       "      <td>Apple</td>\n",
       "      <td>0</td>\n",
       "    </tr>\n",
       "    <tr>\n",
       "      <th>1</th>\n",
       "      <td>@jessedee Know about @fludapp ? Awesome iPad/i...</td>\n",
       "      <td>Apple</td>\n",
       "      <td>1</td>\n",
       "    </tr>\n",
       "    <tr>\n",
       "      <th>2</th>\n",
       "      <td>@swonderlin Can not wait for #iPad 2 also. The...</td>\n",
       "      <td>Apple</td>\n",
       "      <td>1</td>\n",
       "    </tr>\n",
       "    <tr>\n",
       "      <th>3</th>\n",
       "      <td>@sxsw I hope this year's festival isn't as cra...</td>\n",
       "      <td>Apple</td>\n",
       "      <td>0</td>\n",
       "    </tr>\n",
       "    <tr>\n",
       "      <th>4</th>\n",
       "      <td>@sxtxstate great stuff on Fri #SXSW: Marissa M...</td>\n",
       "      <td>Google</td>\n",
       "      <td>1</td>\n",
       "    </tr>\n",
       "  </tbody>\n",
       "</table>\n",
       "</div>"
      ],
      "text/plain": [
       "                                                text   brand  feelings\n",
       "0  .@wesley83 I have a 3G iPhone. After 3 hrs twe...   Apple         0\n",
       "1  @jessedee Know about @fludapp ? Awesome iPad/i...   Apple         1\n",
       "2  @swonderlin Can not wait for #iPad 2 also. The...   Apple         1\n",
       "3  @sxsw I hope this year's festival isn't as cra...   Apple         0\n",
       "4  @sxtxstate great stuff on Fri #SXSW: Marissa M...  Google         1"
      ]
     },
     "execution_count": 22,
     "metadata": {},
     "output_type": "execute_result"
    }
   ],
   "source": [
    "raw3.head()"
   ]
  },
  {
   "cell_type": "code",
   "execution_count": 23,
   "metadata": {},
   "outputs": [
    {
     "data": {
      "text/plain": [
       "(3548, 3)"
      ]
     },
     "execution_count": 23,
     "metadata": {},
     "output_type": "execute_result"
    }
   ],
   "source": [
    "raw3.shape"
   ]
  },
  {
   "cell_type": "code",
   "execution_count": 24,
   "metadata": {},
   "outputs": [
    {
     "name": "stdout",
     "output_type": "stream",
     "text": [
      "Columns with null values\n"
     ]
    },
    {
     "data": {
      "text/plain": [
       "text          0\n",
       "brand       357\n",
       "feelings      0\n",
       "dtype: int64"
      ]
     },
     "metadata": {},
     "output_type": "display_data"
    }
   ],
   "source": [
    "# Check for null values\n",
    "print(\"Columns with null values\")\n",
    "display(raw3.isnull().sum())"
   ]
  },
  {
   "cell_type": "code",
   "execution_count": 25,
   "metadata": {},
   "outputs": [
    {
     "data": {
      "text/plain": [
       "(9, 3)"
      ]
     },
     "execution_count": 25,
     "metadata": {},
     "output_type": "execute_result"
    }
   ],
   "source": [
    "# Check for duplicated rows\n",
    "duplicate = raw3[raw3.duplicated()]\n",
    "duplicate.shape"
   ]
  },
  {
   "cell_type": "code",
   "execution_count": 26,
   "metadata": {},
   "outputs": [],
   "source": [
    "raw4 = raw3"
   ]
  },
  {
   "cell_type": "code",
   "execution_count": 27,
   "metadata": {},
   "outputs": [
    {
     "data": {
      "text/plain": [
       "(3191, 3)"
      ]
     },
     "execution_count": 27,
     "metadata": {},
     "output_type": "execute_result"
    }
   ],
   "source": [
    "# drop the missing values in the brand column\n",
    "raw4.dropna(subset=['brand'], inplace=True)\n",
    "raw4.shape"
   ]
  },
  {
   "cell_type": "code",
   "execution_count": 28,
   "metadata": {},
   "outputs": [
    {
     "data": {
      "text/plain": [
       "(9, 3)"
      ]
     },
     "execution_count": 28,
     "metadata": {},
     "output_type": "execute_result"
    }
   ],
   "source": [
    "# Check for duplicated rows\n",
    "duplicate = raw4[raw4.duplicated()]\n",
    "duplicate.shape"
   ]
  },
  {
   "cell_type": "code",
   "execution_count": 29,
   "metadata": {},
   "outputs": [],
   "source": [
    "raw5=raw4"
   ]
  },
  {
   "cell_type": "code",
   "execution_count": 30,
   "metadata": {},
   "outputs": [
    {
     "data": {
      "text/plain": [
       "(3182, 3)"
      ]
     },
     "execution_count": 30,
     "metadata": {},
     "output_type": "execute_result"
    }
   ],
   "source": [
    "# Drop duplicate rows\n",
    "raw5.drop_duplicates(keep='first',inplace=True)\n",
    "raw5.shape"
   ]
  },
  {
   "cell_type": "code",
   "execution_count": 31,
   "metadata": {},
   "outputs": [
    {
     "name": "stdout",
     "output_type": "stream",
     "text": [
      "1    2664\n",
      "0     518\n",
      "Name: feelings, dtype: int64\n",
      "Apple     2332\n",
      "Google     850\n",
      "Name: brand, dtype: int64\n"
     ]
    }
   ],
   "source": [
    "print (raw5['feelings'].value_counts())\n",
    "print (raw5['brand'].value_counts())"
   ]
  },
  {
   "cell_type": "code",
   "execution_count": 32,
   "metadata": {},
   "outputs": [
    {
     "data": {
      "text/plain": [
       "<AxesSubplot:xlabel='brand'>"
      ]
     },
     "execution_count": 32,
     "metadata": {},
     "output_type": "execute_result"
    },
    {
     "data": {
      "image/png": "[encoded data removed]",
      "text/plain": [
       "<Figure size 432x288 with 1 Axes>"
      ]
     },
     "metadata": {
      "needs_background": "light"
     },
     "output_type": "display_data"
    }
   ],
   "source": [
    "pd.crosstab(raw5['brand'],raw5['feelings']).plot.bar()"
   ]
  },
  {
   "cell_type": "code",
   "execution_count": 33,
   "metadata": {},
   "outputs": [
    {
     "data": {
      "text/plain": [
       "<AxesSubplot:xlabel='feelings'>"
      ]
     },
     "execution_count": 33,
     "metadata": {},
     "output_type": "execute_result"
    },
    {
     "data": {
      "image/png": "[encoded data removed]",
      "text/plain": [
       "<Figure size 432x288 with 1 Axes>"
      ]
     },
     "metadata": {
      "needs_background": "light"
     },
     "output_type": "display_data"
    }
   ],
   "source": [
    "pd.crosstab(raw5['feelings'],raw5['brand']).plot.bar()"
   ]
  },
  {
   "cell_type": "code",
   "execution_count": 83,
   "metadata": {},
   "outputs": [
    {
     "data": {
      "text/html": [
       "<div>\n",
       "<style scoped>\n",
       "    .dataframe tbody tr th:only-of-type {\n",
       "        vertical-align: middle;\n",
       "    }\n",
       "\n",
       "    .dataframe tbody tr th {\n",
       "        vertical-align: top;\n",
       "    }\n",
       "\n",
       "    .dataframe thead th {\n",
       "        text-align: right;\n",
       "    }\n",
       "</style>\n",
       "<table border=\"1\" class=\"dataframe\">\n",
       "  <thead>\n",
       "    <tr style=\"text-align: right;\">\n",
       "      <th></th>\n",
       "      <th>text</th>\n",
       "      <th>feelings</th>\n",
       "      <th>text_fixed</th>\n",
       "      <th>char_count</th>\n",
       "      <th>stopwords</th>\n",
       "    </tr>\n",
       "    <tr>\n",
       "      <th>brand</th>\n",
       "      <th></th>\n",
       "      <th></th>\n",
       "      <th></th>\n",
       "      <th></th>\n",
       "      <th></th>\n",
       "    </tr>\n",
       "  </thead>\n",
       "  <tbody>\n",
       "    <tr>\n",
       "      <th>Apple</th>\n",
       "      <td>2332</td>\n",
       "      <td>2332</td>\n",
       "      <td>2332</td>\n",
       "      <td>2332</td>\n",
       "      <td>2332</td>\n",
       "    </tr>\n",
       "    <tr>\n",
       "      <th>Google</th>\n",
       "      <td>850</td>\n",
       "      <td>850</td>\n",
       "      <td>850</td>\n",
       "      <td>850</td>\n",
       "      <td>850</td>\n",
       "    </tr>\n",
       "  </tbody>\n",
       "</table>\n",
       "</div>"
      ],
      "text/plain": [
       "        text  feelings  text_fixed  char_count  stopwords\n",
       "brand                                                    \n",
       "Apple   2332      2332        2332        2332       2332\n",
       "Google   850       850         850         850        850"
      ]
     },
     "execution_count": 83,
     "metadata": {},
     "output_type": "execute_result"
    }
   ],
   "source": [
    "raw5.groupby('brand').count()"
   ]
  },
  {
   "cell_type": "code",
   "execution_count": 84,
   "metadata": {},
   "outputs": [
    {
     "data": {
      "text/html": [
       "<div>\n",
       "<style scoped>\n",
       "    .dataframe tbody tr th:only-of-type {\n",
       "        vertical-align: middle;\n",
       "    }\n",
       "\n",
       "    .dataframe tbody tr th {\n",
       "        vertical-align: top;\n",
       "    }\n",
       "\n",
       "    .dataframe thead th {\n",
       "        text-align: right;\n",
       "    }\n",
       "</style>\n",
       "<table border=\"1\" class=\"dataframe\">\n",
       "  <thead>\n",
       "    <tr style=\"text-align: right;\">\n",
       "      <th></th>\n",
       "      <th>text</th>\n",
       "      <th>brand</th>\n",
       "      <th>text_fixed</th>\n",
       "      <th>char_count</th>\n",
       "      <th>stopwords</th>\n",
       "    </tr>\n",
       "    <tr>\n",
       "      <th>feelings</th>\n",
       "      <th></th>\n",
       "      <th></th>\n",
       "      <th></th>\n",
       "      <th></th>\n",
       "      <th></th>\n",
       "    </tr>\n",
       "  </thead>\n",
       "  <tbody>\n",
       "    <tr>\n",
       "      <th>0</th>\n",
       "      <td>518</td>\n",
       "      <td>518</td>\n",
       "      <td>518</td>\n",
       "      <td>518</td>\n",
       "      <td>518</td>\n",
       "    </tr>\n",
       "    <tr>\n",
       "      <th>1</th>\n",
       "      <td>2664</td>\n",
       "      <td>2664</td>\n",
       "      <td>2664</td>\n",
       "      <td>2664</td>\n",
       "      <td>2664</td>\n",
       "    </tr>\n",
       "  </tbody>\n",
       "</table>\n",
       "</div>"
      ],
      "text/plain": [
       "          text  brand  text_fixed  char_count  stopwords\n",
       "feelings                                                \n",
       "0          518    518         518         518        518\n",
       "1         2664   2664        2664        2664       2664"
      ]
     },
     "execution_count": 84,
     "metadata": {},
     "output_type": "execute_result"
    }
   ],
   "source": [
    "raw5.groupby('feelings').count()"
   ]
  },
  {
   "cell_type": "markdown",
   "metadata": {},
   "source": [
    "### Observations after initial data cleaning and simplifying\n",
    "By simplifying the classes and cleaning nulls and duplicates we have gone from 9093 to 3182 observations. As a result we have 2 classes of sentiments (0=negative; 1=positive) and 2 classes of brands (Apple and Google). There is a class imbance for each of these. The main one of concern is sentiment where positive sentiment makes up 84% of our tweets (16% is negative). Note sure how this will affect our models at this point. We may need to SMOTE."
   ]
  },
  {
   "cell_type": "code",
   "execution_count": null,
   "metadata": {},
   "outputs": [],
   "source": []
  },
  {
   "cell_type": "markdown",
   "metadata": {},
   "source": [
    "### Criteria for Model Evaluation\n",
    "We want to identify both positive and negative things people are saying about our clients and their services. However, we are more concerned with the negative things people are saying as these are areas for improvement, and in some cases may need immediate attention. \n",
    "\n",
    "So we are concerned with model ACCURACY… for sure. But in addition to that, we are also concerned with RECALL (for the minority class - negative tweets) … as we don't wan’t to miss negative things that get predicted /coded as positive. Initially we have coded the negative class as 0 and the positive as 1. We may need to change that in the modeling phase - TBD. "
   ]
  },
  {
   "cell_type": "code",
   "execution_count": 34,
   "metadata": {},
   "outputs": [
    {
     "data": {
      "text/html": [
       "<div>\n",
       "<style scoped>\n",
       "    .dataframe tbody tr th:only-of-type {\n",
       "        vertical-align: middle;\n",
       "    }\n",
       "\n",
       "    .dataframe tbody tr th {\n",
       "        vertical-align: top;\n",
       "    }\n",
       "\n",
       "    .dataframe thead th {\n",
       "        text-align: right;\n",
       "    }\n",
       "</style>\n",
       "<table border=\"1\" class=\"dataframe\">\n",
       "  <thead>\n",
       "    <tr style=\"text-align: right;\">\n",
       "      <th></th>\n",
       "      <th>text</th>\n",
       "      <th>brand</th>\n",
       "      <th>feelings</th>\n",
       "    </tr>\n",
       "  </thead>\n",
       "  <tbody>\n",
       "    <tr>\n",
       "      <th>0</th>\n",
       "      <td>.@wesley83 I have a 3G iPhone. After 3 hrs twe...</td>\n",
       "      <td>Apple</td>\n",
       "      <td>0</td>\n",
       "    </tr>\n",
       "    <tr>\n",
       "      <th>1</th>\n",
       "      <td>@jessedee Know about @fludapp ? Awesome iPad/i...</td>\n",
       "      <td>Apple</td>\n",
       "      <td>1</td>\n",
       "    </tr>\n",
       "  </tbody>\n",
       "</table>\n",
       "</div>"
      ],
      "text/plain": [
       "                                                text  brand  feelings\n",
       "0  .@wesley83 I have a 3G iPhone. After 3 hrs twe...  Apple         0\n",
       "1  @jessedee Know about @fludapp ? Awesome iPad/i...  Apple         1"
      ]
     },
     "execution_count": 34,
     "metadata": {},
     "output_type": "execute_result"
    }
   ],
   "source": [
    "raw5.head(2)"
   ]
  },
  {
   "cell_type": "code",
   "execution_count": 98,
   "metadata": {},
   "outputs": [
    {
     "data": {
      "text/plain": [
       "\"@jessedee Know about @fludapp ? Awesome iPad/iPhone app that you'll likely appreciate for its design. Also, they're giving free Ts at #SXSW\""
      ]
     },
     "execution_count": 98,
     "metadata": {},
     "output_type": "execute_result"
    }
   ],
   "source": [
    "raw5.text[1]"
   ]
  },
  {
   "cell_type": "markdown",
   "metadata": {},
   "source": [
    "### Text normalization and clean-up\n",
    "As part of this step I will follow some steps outlined from AmberLynn Yandow's notebook. This includes creating a seperate column in the df for the cleaned text. "
   ]
  },
  {
   "cell_type": "code",
   "execution_count": 36,
   "metadata": {},
   "outputs": [
    {
     "data": {
      "text/plain": [
       "0    .@wesley83 i have a 3g iphone. after 3 hrs twe...\n",
       "1    @jessedee know about @fludapp ? awesome ipad/i...\n",
       "2    @swonderlin can not wait for #ipad 2 also. the...\n",
       "3    @sxsw i hope this year's festival isn't as cra...\n",
       "4    @sxtxstate great stuff on fri #sxsw: marissa m...\n",
       "Name: text_fixed, dtype: object"
      ]
     },
     "execution_count": 36,
     "metadata": {},
     "output_type": "execute_result"
    }
   ],
   "source": [
    "#Getting rid of upper cases. This avoids having multiple copies of the same words \n",
    "raw5['text_fixed'] = raw5['text'].apply(lambda x: \" \".join(x.lower() for x in x.split()))\n",
    "raw5['text_fixed'].head()"
   ]
  },
  {
   "cell_type": "code",
   "execution_count": 37,
   "metadata": {},
   "outputs": [
    {
     "data": {
      "text/plain": [
       "0    wesley83 i have a 3g iphone after 3 hrs tweeti...\n",
       "1    jessedee know about fludapp  awesome ipadiphon...\n",
       "2    swonderlin can not wait for ipad 2 also they s...\n",
       "3    sxsw i hope this years festival isnt as crashy...\n",
       "4    sxtxstate great stuff on fri sxsw marissa maye...\n",
       "Name: text_fixed, dtype: object"
      ]
     },
     "execution_count": 37,
     "metadata": {},
     "output_type": "execute_result"
    }
   ],
   "source": [
    "#Removing punctuation. To reduce the size of the data \n",
    "raw5['text_fixed'] = raw5['text_fixed'].str.replace('[^\\w\\s]','')\n",
    "raw5['text_fixed'].head()"
   ]
  },
  {
   "cell_type": "code",
   "execution_count": 38,
   "metadata": {},
   "outputs": [
    {
     "name": "stdout",
     "output_type": "stream",
     "text": [
      "['i', 'me', 'my', 'myself', 'we', 'our', 'ours', 'ourselves', 'you', \"you're\", \"you've\", \"you'll\", \"you'd\", 'your', 'yours', 'yourself', 'yourselves', 'he', 'him', 'his', 'himself', 'she', \"she's\", 'her', 'hers', 'herself', 'it', \"it's\", 'its', 'itself', 'they', 'them', 'their', 'theirs', 'themselves', 'what', 'which', 'who', 'whom', 'this', 'that', \"that'll\", 'these', 'those', 'am', 'is', 'are', 'was', 'were', 'be', 'been', 'being', 'have', 'has', 'had', 'having', 'do', 'does', 'did', 'doing', 'a', 'an', 'the', 'and', 'but', 'if', 'or', 'because', 'as', 'until', 'while', 'of', 'at', 'by', 'for', 'with', 'about', 'against', 'between', 'into', 'through', 'during', 'before', 'after', 'above', 'below', 'to', 'from', 'up', 'down', 'in', 'out', 'on', 'off', 'over', 'under', 'again', 'further', 'then', 'once', 'here', 'there', 'when', 'where', 'why', 'how', 'all', 'any', 'both', 'each', 'few', 'more', 'most', 'other', 'some', 'such', 'no', 'nor', 'not', 'only', 'own', 'same', 'so', 'than', 'too', 'very', 's', 't', 'can', 'will', 'just', 'don', \"don't\", 'should', \"should've\", 'now', 'd', 'll', 'm', 'o', 're', 've', 'y', 'ain', 'aren', \"aren't\", 'couldn', \"couldn't\", 'didn', \"didn't\", 'doesn', \"doesn't\", 'hadn', \"hadn't\", 'hasn', \"hasn't\", 'haven', \"haven't\", 'isn', \"isn't\", 'ma', 'mightn', \"mightn't\", 'mustn', \"mustn't\", 'needn', \"needn't\", 'shan', \"shan't\", 'shouldn', \"shouldn't\", 'wasn', \"wasn't\", 'weren', \"weren't\", 'won', \"won't\", 'wouldn', \"wouldn't\"]\n"
     ]
    }
   ],
   "source": [
    "# Take a look at standard stop word list\n",
    "stop = stopwords.words('english')\n",
    "print(stop)"
   ]
  },
  {
   "cell_type": "code",
   "execution_count": 39,
   "metadata": {},
   "outputs": [
    {
     "data": {
      "text/plain": [
       "179"
      ]
     },
     "execution_count": 39,
     "metadata": {},
     "output_type": "execute_result"
    }
   ],
   "source": [
    "len(stop)"
   ]
  },
  {
   "cell_type": "code",
   "execution_count": 41,
   "metadata": {},
   "outputs": [
    {
     "name": "stdout",
     "output_type": "stream",
     "text": [
      "                                          text_fixed  char_count\n",
      "0  wesley83 i have a 3g iphone after 3 hrs tweeti...         117\n",
      "1  jessedee know about fludapp  awesome ipadiphon...         130\n",
      "2  swonderlin can not wait for ipad 2 also they s...          74\n",
      "3  sxsw i hope this years festival isnt as crashy...          76\n",
      "4  sxtxstate great stuff on fri sxsw marissa maye...         117\n",
      "98.95065996228787\n"
     ]
    }
   ],
   "source": [
    "#how many characters in each tweet? \n",
    "raw5['char_count'] = raw5['text_fixed'].str.len() \n",
    "print(raw5[['text_fixed','char_count']].head())\n",
    "print(raw5['char_count'].mean())"
   ]
  },
  {
   "cell_type": "code",
   "execution_count": 42,
   "metadata": {},
   "outputs": [
    {
     "data": {
      "text/html": [
       "<div>\n",
       "<style scoped>\n",
       "    .dataframe tbody tr th:only-of-type {\n",
       "        vertical-align: middle;\n",
       "    }\n",
       "\n",
       "    .dataframe tbody tr th {\n",
       "        vertical-align: top;\n",
       "    }\n",
       "\n",
       "    .dataframe thead th {\n",
       "        text-align: right;\n",
       "    }\n",
       "</style>\n",
       "<table border=\"1\" class=\"dataframe\">\n",
       "  <thead>\n",
       "    <tr style=\"text-align: right;\">\n",
       "      <th></th>\n",
       "      <th>text_fixed</th>\n",
       "      <th>stopwords</th>\n",
       "    </tr>\n",
       "  </thead>\n",
       "  <tbody>\n",
       "    <tr>\n",
       "      <th>0</th>\n",
       "      <td>wesley83 i have a 3g iphone after 3 hrs tweeti...</td>\n",
       "      <td>10</td>\n",
       "    </tr>\n",
       "    <tr>\n",
       "      <th>1</th>\n",
       "      <td>jessedee know about fludapp  awesome ipadiphon...</td>\n",
       "      <td>5</td>\n",
       "    </tr>\n",
       "    <tr>\n",
       "      <th>2</th>\n",
       "      <td>swonderlin can not wait for ipad 2 also they s...</td>\n",
       "      <td>8</td>\n",
       "    </tr>\n",
       "    <tr>\n",
       "      <th>3</th>\n",
       "      <td>sxsw i hope this years festival isnt as crashy...</td>\n",
       "      <td>5</td>\n",
       "    </tr>\n",
       "    <tr>\n",
       "      <th>4</th>\n",
       "      <td>sxtxstate great stuff on fri sxsw marissa maye...</td>\n",
       "      <td>1</td>\n",
       "    </tr>\n",
       "    <tr>\n",
       "      <th>7</th>\n",
       "      <td>sxsw is just starting ctia is around the corne...</td>\n",
       "      <td>15</td>\n",
       "    </tr>\n",
       "    <tr>\n",
       "      <th>8</th>\n",
       "      <td>beautifully smart and simple idea rt madebyman...</td>\n",
       "      <td>4</td>\n",
       "    </tr>\n",
       "    <tr>\n",
       "      <th>9</th>\n",
       "      <td>counting down the days to sxsw plus strong can...</td>\n",
       "      <td>5</td>\n",
       "    </tr>\n",
       "    <tr>\n",
       "      <th>10</th>\n",
       "      <td>excited to meet the samsungmobileus at sxsw so...</td>\n",
       "      <td>9</td>\n",
       "    </tr>\n",
       "    <tr>\n",
       "      <th>11</th>\n",
       "      <td>find amp start impromptu parties at sxsw with ...</td>\n",
       "      <td>5</td>\n",
       "    </tr>\n",
       "  </tbody>\n",
       "</table>\n",
       "</div>"
      ],
      "text/plain": [
       "                                           text_fixed  stopwords\n",
       "0   wesley83 i have a 3g iphone after 3 hrs tweeti...         10\n",
       "1   jessedee know about fludapp  awesome ipadiphon...          5\n",
       "2   swonderlin can not wait for ipad 2 also they s...          8\n",
       "3   sxsw i hope this years festival isnt as crashy...          5\n",
       "4   sxtxstate great stuff on fri sxsw marissa maye...          1\n",
       "7   sxsw is just starting ctia is around the corne...         15\n",
       "8   beautifully smart and simple idea rt madebyman...          4\n",
       "9   counting down the days to sxsw plus strong can...          5\n",
       "10  excited to meet the samsungmobileus at sxsw so...          9\n",
       "11  find amp start impromptu parties at sxsw with ...          5"
      ]
     },
     "execution_count": 42,
     "metadata": {},
     "output_type": "execute_result"
    }
   ],
   "source": [
    "#how many stop words are there per tweet? \n",
    "raw5['stopwords'] = raw5['text_fixed'].apply(lambda x: len([x for x in x.split() if x in stop]))\n",
    "raw5[['text_fixed','stopwords']].head(10)"
   ]
  },
  {
   "cell_type": "code",
   "execution_count": 43,
   "metadata": {},
   "outputs": [
    {
     "name": "stdout",
     "output_type": "stream",
     "text": [
      "5.674418604651163\n"
     ]
    }
   ],
   "source": [
    "print(raw5['stopwords'].mean())"
   ]
  },
  {
   "cell_type": "code",
   "execution_count": 45,
   "metadata": {},
   "outputs": [
    {
     "data": {
      "text/html": [
       "<div>\n",
       "<style scoped>\n",
       "    .dataframe tbody tr th:only-of-type {\n",
       "        vertical-align: middle;\n",
       "    }\n",
       "\n",
       "    .dataframe tbody tr th {\n",
       "        vertical-align: top;\n",
       "    }\n",
       "\n",
       "    .dataframe thead th {\n",
       "        text-align: right;\n",
       "    }\n",
       "</style>\n",
       "<table border=\"1\" class=\"dataframe\">\n",
       "  <thead>\n",
       "    <tr style=\"text-align: right;\">\n",
       "      <th></th>\n",
       "      <th>text</th>\n",
       "      <th>brand</th>\n",
       "      <th>feelings</th>\n",
       "      <th>text_fixed</th>\n",
       "      <th>char_count</th>\n",
       "      <th>stopwords</th>\n",
       "    </tr>\n",
       "  </thead>\n",
       "  <tbody>\n",
       "    <tr>\n",
       "      <th>0</th>\n",
       "      <td>.@wesley83 I have a 3G iPhone. After 3 hrs twe...</td>\n",
       "      <td>Apple</td>\n",
       "      <td>0</td>\n",
       "      <td>wesley83 i have a 3g iphone after 3 hrs tweeti...</td>\n",
       "      <td>117</td>\n",
       "      <td>10</td>\n",
       "    </tr>\n",
       "    <tr>\n",
       "      <th>1</th>\n",
       "      <td>@jessedee Know about @fludapp ? Awesome iPad/i...</td>\n",
       "      <td>Apple</td>\n",
       "      <td>1</td>\n",
       "      <td>jessedee know about fludapp  awesome ipadiphon...</td>\n",
       "      <td>130</td>\n",
       "      <td>5</td>\n",
       "    </tr>\n",
       "    <tr>\n",
       "      <th>2</th>\n",
       "      <td>@swonderlin Can not wait for #iPad 2 also. The...</td>\n",
       "      <td>Apple</td>\n",
       "      <td>1</td>\n",
       "      <td>swonderlin can not wait for ipad 2 also they s...</td>\n",
       "      <td>74</td>\n",
       "      <td>8</td>\n",
       "    </tr>\n",
       "    <tr>\n",
       "      <th>3</th>\n",
       "      <td>@sxsw I hope this year's festival isn't as cra...</td>\n",
       "      <td>Apple</td>\n",
       "      <td>0</td>\n",
       "      <td>sxsw i hope this years festival isnt as crashy...</td>\n",
       "      <td>76</td>\n",
       "      <td>5</td>\n",
       "    </tr>\n",
       "    <tr>\n",
       "      <th>4</th>\n",
       "      <td>@sxtxstate great stuff on Fri #SXSW: Marissa M...</td>\n",
       "      <td>Google</td>\n",
       "      <td>1</td>\n",
       "      <td>sxtxstate great stuff on fri sxsw marissa maye...</td>\n",
       "      <td>117</td>\n",
       "      <td>1</td>\n",
       "    </tr>\n",
       "  </tbody>\n",
       "</table>\n",
       "</div>"
      ],
      "text/plain": [
       "                                                text   brand  feelings  \\\n",
       "0  .@wesley83 I have a 3G iPhone. After 3 hrs twe...   Apple         0   \n",
       "1  @jessedee Know about @fludapp ? Awesome iPad/i...   Apple         1   \n",
       "2  @swonderlin Can not wait for #iPad 2 also. The...   Apple         1   \n",
       "3  @sxsw I hope this year's festival isn't as cra...   Apple         0   \n",
       "4  @sxtxstate great stuff on Fri #SXSW: Marissa M...  Google         1   \n",
       "\n",
       "                                          text_fixed  char_count  stopwords  \n",
       "0  wesley83 i have a 3g iphone after 3 hrs tweeti...         117         10  \n",
       "1  jessedee know about fludapp  awesome ipadiphon...         130          5  \n",
       "2  swonderlin can not wait for ipad 2 also they s...          74          8  \n",
       "3  sxsw i hope this years festival isnt as crashy...          76          5  \n",
       "4  sxtxstate great stuff on fri sxsw marissa maye...         117          1  "
      ]
     },
     "execution_count": 45,
     "metadata": {},
     "output_type": "execute_result"
    }
   ],
   "source": [
    "raw5.head(5)"
   ]
  },
  {
   "cell_type": "code",
   "execution_count": 46,
   "metadata": {},
   "outputs": [],
   "source": [
    "# Adding unique things to stopword list. \n",
    "stop += ['link', 'quot', 'com', 'rt', 'mention', 'amp', 'sxsw', 'sxtx', '@mention']\n",
    "stop_set = set(stop)"
   ]
  },
  {
   "cell_type": "code",
   "execution_count": 47,
   "metadata": {},
   "outputs": [
    {
     "data": {
      "text/plain": [
       "0    wesley83 3g iphone 3 hrs tweeting rise_austin ...\n",
       "1    jessedee know fludapp awesome ipadiphone app y...\n",
       "2                     swonderlin wait ipad 2 also sale\n",
       "3     hope years festival isnt crashy years iphone app\n",
       "4    sxtxstate great stuff fri marissa mayer google...\n",
       "Name: text_fixed, dtype: object"
      ]
     },
     "execution_count": 47,
     "metadata": {},
     "output_type": "execute_result"
    }
   ],
   "source": [
    "#removing stopwords \n",
    "raw5['text_fixed'] = raw5['text_fixed'].apply(lambda x: \" \".join(x for x in x.split() if x not in stop_set))\n",
    "raw5['text_fixed'].head()"
   ]
  },
  {
   "cell_type": "code",
   "execution_count": 48,
   "metadata": {},
   "outputs": [
    {
     "data": {
      "text/html": [
       "<div>\n",
       "<style scoped>\n",
       "    .dataframe tbody tr th:only-of-type {\n",
       "        vertical-align: middle;\n",
       "    }\n",
       "\n",
       "    .dataframe tbody tr th {\n",
       "        vertical-align: top;\n",
       "    }\n",
       "\n",
       "    .dataframe thead th {\n",
       "        text-align: right;\n",
       "    }\n",
       "</style>\n",
       "<table border=\"1\" class=\"dataframe\">\n",
       "  <thead>\n",
       "    <tr style=\"text-align: right;\">\n",
       "      <th></th>\n",
       "      <th>text</th>\n",
       "      <th>brand</th>\n",
       "      <th>feelings</th>\n",
       "      <th>text_fixed</th>\n",
       "      <th>char_count</th>\n",
       "      <th>stopwords</th>\n",
       "    </tr>\n",
       "  </thead>\n",
       "  <tbody>\n",
       "    <tr>\n",
       "      <th>0</th>\n",
       "      <td>.@wesley83 I have a 3G iPhone. After 3 hrs twe...</td>\n",
       "      <td>Apple</td>\n",
       "      <td>0</td>\n",
       "      <td>wesley83 3g iphone 3 hrs tweeting rise_austin ...</td>\n",
       "      <td>117</td>\n",
       "      <td>10</td>\n",
       "    </tr>\n",
       "    <tr>\n",
       "      <th>1</th>\n",
       "      <td>@jessedee Know about @fludapp ? Awesome iPad/i...</td>\n",
       "      <td>Apple</td>\n",
       "      <td>1</td>\n",
       "      <td>jessedee know fludapp awesome ipadiphone app y...</td>\n",
       "      <td>130</td>\n",
       "      <td>5</td>\n",
       "    </tr>\n",
       "    <tr>\n",
       "      <th>2</th>\n",
       "      <td>@swonderlin Can not wait for #iPad 2 also. The...</td>\n",
       "      <td>Apple</td>\n",
       "      <td>1</td>\n",
       "      <td>swonderlin wait ipad 2 also sale</td>\n",
       "      <td>74</td>\n",
       "      <td>8</td>\n",
       "    </tr>\n",
       "    <tr>\n",
       "      <th>3</th>\n",
       "      <td>@sxsw I hope this year's festival isn't as cra...</td>\n",
       "      <td>Apple</td>\n",
       "      <td>0</td>\n",
       "      <td>hope years festival isnt crashy years iphone app</td>\n",
       "      <td>76</td>\n",
       "      <td>5</td>\n",
       "    </tr>\n",
       "    <tr>\n",
       "      <th>4</th>\n",
       "      <td>@sxtxstate great stuff on Fri #SXSW: Marissa M...</td>\n",
       "      <td>Google</td>\n",
       "      <td>1</td>\n",
       "      <td>sxtxstate great stuff fri marissa mayer google...</td>\n",
       "      <td>117</td>\n",
       "      <td>1</td>\n",
       "    </tr>\n",
       "  </tbody>\n",
       "</table>\n",
       "</div>"
      ],
      "text/plain": [
       "                                                text   brand  feelings  \\\n",
       "0  .@wesley83 I have a 3G iPhone. After 3 hrs twe...   Apple         0   \n",
       "1  @jessedee Know about @fludapp ? Awesome iPad/i...   Apple         1   \n",
       "2  @swonderlin Can not wait for #iPad 2 also. The...   Apple         1   \n",
       "3  @sxsw I hope this year's festival isn't as cra...   Apple         0   \n",
       "4  @sxtxstate great stuff on Fri #SXSW: Marissa M...  Google         1   \n",
       "\n",
       "                                          text_fixed  char_count  stopwords  \n",
       "0  wesley83 3g iphone 3 hrs tweeting rise_austin ...         117         10  \n",
       "1  jessedee know fludapp awesome ipadiphone app y...         130          5  \n",
       "2                   swonderlin wait ipad 2 also sale          74          8  \n",
       "3   hope years festival isnt crashy years iphone app          76          5  \n",
       "4  sxtxstate great stuff fri marissa mayer google...         117          1  "
      ]
     },
     "execution_count": 48,
     "metadata": {},
     "output_type": "execute_result"
    }
   ],
   "source": [
    "raw5.head()"
   ]
  },
  {
   "cell_type": "code",
   "execution_count": 101,
   "metadata": {},
   "outputs": [
    {
     "data": {
      "text/plain": [
       "ipad       1068\n",
       "apple       863\n",
       "google      666\n",
       "iphone      603\n",
       "store       532\n",
       "2           492\n",
       "app         408\n",
       "new         357\n",
       "austin      283\n",
       "popup       210\n",
       "ipad2       194\n",
       "android     193\n",
       "get         167\n",
       "launch      157\n",
       "like        134\n",
       "great       131\n",
       "via         131\n",
       "line        131\n",
       "time        130\n",
       "social      126\n",
       "one         122\n",
       "cool        118\n",
       "im          117\n",
       "circles     112\n",
       "party       112\n",
       "dtype: int64"
      ]
     },
     "execution_count": 101,
     "metadata": {},
     "output_type": "execute_result"
    }
   ],
   "source": [
    "#most frequent words overall - hmmm lots of product names and general superlatives\n",
    "freq = pd.Series(' '.join(raw5['text_fixed']).split()).value_counts()[:25]\n",
    "freq"
   ]
  },
  {
   "cell_type": "code",
   "execution_count": 51,
   "metadata": {},
   "outputs": [],
   "source": [
    "raw6 = raw5"
   ]
  },
  {
   "cell_type": "code",
   "execution_count": 52,
   "metadata": {},
   "outputs": [
    {
     "data": {
      "text/html": [
       "<div>\n",
       "<style scoped>\n",
       "    .dataframe tbody tr th:only-of-type {\n",
       "        vertical-align: middle;\n",
       "    }\n",
       "\n",
       "    .dataframe tbody tr th {\n",
       "        vertical-align: top;\n",
       "    }\n",
       "\n",
       "    .dataframe thead th {\n",
       "        text-align: right;\n",
       "    }\n",
       "</style>\n",
       "<table border=\"1\" class=\"dataframe\">\n",
       "  <thead>\n",
       "    <tr style=\"text-align: right;\">\n",
       "      <th></th>\n",
       "      <th>text</th>\n",
       "      <th>brand</th>\n",
       "      <th>feelings</th>\n",
       "      <th>text_fixed</th>\n",
       "      <th>char_count</th>\n",
       "      <th>stopwords</th>\n",
       "    </tr>\n",
       "  </thead>\n",
       "  <tbody>\n",
       "    <tr>\n",
       "      <th>0</th>\n",
       "      <td>.@wesley83 I have a 3G iPhone. After 3 hrs twe...</td>\n",
       "      <td>Apple</td>\n",
       "      <td>0</td>\n",
       "      <td>wesley83 3g iphone 3 hrs tweeting rise_austin ...</td>\n",
       "      <td>117</td>\n",
       "      <td>10</td>\n",
       "    </tr>\n",
       "    <tr>\n",
       "      <th>1</th>\n",
       "      <td>@jessedee Know about @fludapp ? Awesome iPad/i...</td>\n",
       "      <td>Apple</td>\n",
       "      <td>1</td>\n",
       "      <td>jessedee know fludapp awesome ipadiphone app y...</td>\n",
       "      <td>130</td>\n",
       "      <td>5</td>\n",
       "    </tr>\n",
       "    <tr>\n",
       "      <th>2</th>\n",
       "      <td>@swonderlin Can not wait for #iPad 2 also. The...</td>\n",
       "      <td>Apple</td>\n",
       "      <td>1</td>\n",
       "      <td>swonderlin wait ipad 2 also sale</td>\n",
       "      <td>74</td>\n",
       "      <td>8</td>\n",
       "    </tr>\n",
       "    <tr>\n",
       "      <th>3</th>\n",
       "      <td>@sxsw I hope this year's festival isn't as cra...</td>\n",
       "      <td>Apple</td>\n",
       "      <td>0</td>\n",
       "      <td>hope years festival isnt crashy years iphone app</td>\n",
       "      <td>76</td>\n",
       "      <td>5</td>\n",
       "    </tr>\n",
       "    <tr>\n",
       "      <th>4</th>\n",
       "      <td>@sxtxstate great stuff on Fri #SXSW: Marissa M...</td>\n",
       "      <td>Google</td>\n",
       "      <td>1</td>\n",
       "      <td>sxtxstate great stuff fri marissa mayer google...</td>\n",
       "      <td>117</td>\n",
       "      <td>1</td>\n",
       "    </tr>\n",
       "  </tbody>\n",
       "</table>\n",
       "</div>"
      ],
      "text/plain": [
       "                                                text   brand  feelings  \\\n",
       "0  .@wesley83 I have a 3G iPhone. After 3 hrs twe...   Apple         0   \n",
       "1  @jessedee Know about @fludapp ? Awesome iPad/i...   Apple         1   \n",
       "2  @swonderlin Can not wait for #iPad 2 also. The...   Apple         1   \n",
       "3  @sxsw I hope this year's festival isn't as cra...   Apple         0   \n",
       "4  @sxtxstate great stuff on Fri #SXSW: Marissa M...  Google         1   \n",
       "\n",
       "                                          text_fixed  char_count  stopwords  \n",
       "0  wesley83 3g iphone 3 hrs tweeting rise_austin ...         117         10  \n",
       "1  jessedee know fludapp awesome ipadiphone app y...         130          5  \n",
       "2                   swonderlin wait ipad 2 also sale          74          8  \n",
       "3   hope years festival isnt crashy years iphone app          76          5  \n",
       "4  sxtxstate great stuff fri marissa mayer google...         117          1  "
      ]
     },
     "execution_count": 52,
     "metadata": {},
     "output_type": "execute_result"
    }
   ],
   "source": [
    "raw6.head()"
   ]
  },
  {
   "cell_type": "markdown",
   "metadata": {},
   "source": [
    "### Update: Include more stop words\n",
    "After some additional post modeling EDA decided to cut some of the really common words from our texts. Doing this on the raw6 dataset. "
   ]
  },
  {
   "cell_type": "code",
   "execution_count": 105,
   "metadata": {},
   "outputs": [],
   "source": [
    "# Adding MORE unique things to stopword list. \n",
    "stop += ['link', 'quot', 'com', 'rt', 'mention', 'amp', 'sxsw', 'sxtx', '@mention', 'sxswi', 'store', 'link', 'http', '2', 'sxswrt', 'google', 'googles', 'app', 'apps', 'android', 'austin', 'quotgoogle', 'new', 'today', 'one', 'apple', 'ipad', 'ipads', 'iphone', 'ipad2', 'apples', 'quotapple']\n",
    "stop_set = set(stop)"
   ]
  },
  {
   "cell_type": "code",
   "execution_count": 106,
   "metadata": {},
   "outputs": [
    {
     "data": {
      "text/plain": [
       "0    wesley83 3g 3 hrs tweeting rise_austin dead ne...\n",
       "1    jessedee know fludapp awesome ipadiphone youll...\n",
       "2                            swonderlin wait also sale\n",
       "3                hope years festival isnt crashy years\n",
       "4    sxtxstate great stuff fri marissa mayer tim or...\n",
       "Name: text_fixed, dtype: object"
      ]
     },
     "execution_count": 106,
     "metadata": {},
     "output_type": "execute_result"
    }
   ],
   "source": [
    "#removing stopwords \n",
    "raw6['text_fixed'] = raw6['text_fixed'].apply(lambda x: \" \".join(x for x in x.split() if x not in stop_set))\n",
    "raw6['text_fixed'].head()"
   ]
  },
  {
   "cell_type": "code",
   "execution_count": 107,
   "metadata": {},
   "outputs": [
    {
     "data": {
      "text/plain": [
       "popup        210\n",
       "get          167\n",
       "launch       157\n",
       "like         134\n",
       "great        131\n",
       "via          131\n",
       "line         131\n",
       "time         130\n",
       "social       126\n",
       "cool         118\n",
       "im           117\n",
       "party        112\n",
       "circles      112\n",
       "day          105\n",
       "free         103\n",
       "maps         103\n",
       "go           102\n",
       "love          97\n",
       "good          96\n",
       "people        95\n",
       "awesome       91\n",
       "dont          89\n",
       "temporary     88\n",
       "opening       87\n",
       "mobile        85\n",
       "dtype: int64"
      ]
     },
     "execution_count": 107,
     "metadata": {},
     "output_type": "execute_result"
    }
   ],
   "source": [
    "#most frequent words overall - after cutting out additional unique stopwords\n",
    "freq = pd.Series(' '.join(raw6['text_fixed']).split()).value_counts()[:25]\n",
    "freq"
   ]
  },
  {
   "cell_type": "code",
   "execution_count": null,
   "metadata": {},
   "outputs": [],
   "source": []
  },
  {
   "cell_type": "markdown",
   "metadata": {},
   "source": [
    "### Diversion...Take a look at sentiment using TextBlob\n",
    "We wanted to see how well an existing library / tool could detect sentiment in our set of tweets. Note that there are 2 scores here from TextBlob: polarity (how negative or positive it is on scale of -1 to +1; and subjectivity which is on a 0 to 1 scale with 1 being objective and 0 being subjective. UPDATED with raw6."
   ]
  },
  {
   "cell_type": "code",
   "execution_count": 85,
   "metadata": {},
   "outputs": [
    {
     "data": {
      "text/html": [
       "<div>\n",
       "<style scoped>\n",
       "    .dataframe tbody tr th:only-of-type {\n",
       "        vertical-align: middle;\n",
       "    }\n",
       "\n",
       "    .dataframe tbody tr th {\n",
       "        vertical-align: top;\n",
       "    }\n",
       "\n",
       "    .dataframe thead th {\n",
       "        text-align: right;\n",
       "    }\n",
       "</style>\n",
       "<table border=\"1\" class=\"dataframe\">\n",
       "  <thead>\n",
       "    <tr style=\"text-align: right;\">\n",
       "      <th></th>\n",
       "      <th>text</th>\n",
       "      <th>brand</th>\n",
       "      <th>feelings</th>\n",
       "      <th>text_fixed</th>\n",
       "      <th>char_count</th>\n",
       "      <th>stopwords</th>\n",
       "      <th>polarity</th>\n",
       "      <th>subjectivity</th>\n",
       "    </tr>\n",
       "  </thead>\n",
       "  <tbody>\n",
       "    <tr>\n",
       "      <th>0</th>\n",
       "      <td>.@wesley83 I have a 3G iPhone. After 3 hrs twe...</td>\n",
       "      <td>Apple</td>\n",
       "      <td>0</td>\n",
       "      <td>wesley83 3g iphone 3 hrs tweeting rise_austin ...</td>\n",
       "      <td>117</td>\n",
       "      <td>10</td>\n",
       "      <td>-0.200000</td>\n",
       "      <td>0.400000</td>\n",
       "    </tr>\n",
       "    <tr>\n",
       "      <th>1</th>\n",
       "      <td>@jessedee Know about @fludapp ? Awesome iPad/i...</td>\n",
       "      <td>Apple</td>\n",
       "      <td>1</td>\n",
       "      <td>jessedee know fludapp awesome ipadiphone app y...</td>\n",
       "      <td>130</td>\n",
       "      <td>5</td>\n",
       "      <td>0.466667</td>\n",
       "      <td>0.933333</td>\n",
       "    </tr>\n",
       "    <tr>\n",
       "      <th>2</th>\n",
       "      <td>@swonderlin Can not wait for #iPad 2 also. The...</td>\n",
       "      <td>Apple</td>\n",
       "      <td>1</td>\n",
       "      <td>swonderlin wait ipad 2 also sale</td>\n",
       "      <td>74</td>\n",
       "      <td>8</td>\n",
       "      <td>0.000000</td>\n",
       "      <td>0.000000</td>\n",
       "    </tr>\n",
       "    <tr>\n",
       "      <th>3</th>\n",
       "      <td>@sxsw I hope this year's festival isn't as cra...</td>\n",
       "      <td>Apple</td>\n",
       "      <td>0</td>\n",
       "      <td>hope years festival isnt crashy years iphone app</td>\n",
       "      <td>76</td>\n",
       "      <td>5</td>\n",
       "      <td>0.000000</td>\n",
       "      <td>0.000000</td>\n",
       "    </tr>\n",
       "    <tr>\n",
       "      <th>4</th>\n",
       "      <td>@sxtxstate great stuff on Fri #SXSW: Marissa M...</td>\n",
       "      <td>Google</td>\n",
       "      <td>1</td>\n",
       "      <td>sxtxstate great stuff fri marissa mayer google...</td>\n",
       "      <td>117</td>\n",
       "      <td>1</td>\n",
       "      <td>0.800000</td>\n",
       "      <td>0.750000</td>\n",
       "    </tr>\n",
       "  </tbody>\n",
       "</table>\n",
       "</div>"
      ],
      "text/plain": [
       "                                                text   brand  feelings  \\\n",
       "0  .@wesley83 I have a 3G iPhone. After 3 hrs twe...   Apple         0   \n",
       "1  @jessedee Know about @fludapp ? Awesome iPad/i...   Apple         1   \n",
       "2  @swonderlin Can not wait for #iPad 2 also. The...   Apple         1   \n",
       "3  @sxsw I hope this year's festival isn't as cra...   Apple         0   \n",
       "4  @sxtxstate great stuff on Fri #SXSW: Marissa M...  Google         1   \n",
       "\n",
       "                                          text_fixed  char_count  stopwords  \\\n",
       "0  wesley83 3g iphone 3 hrs tweeting rise_austin ...         117         10   \n",
       "1  jessedee know fludapp awesome ipadiphone app y...         130          5   \n",
       "2                   swonderlin wait ipad 2 also sale          74          8   \n",
       "3   hope years festival isnt crashy years iphone app          76          5   \n",
       "4  sxtxstate great stuff fri marissa mayer google...         117          1   \n",
       "\n",
       "   polarity  subjectivity  \n",
       "0 -0.200000      0.400000  \n",
       "1  0.466667      0.933333  \n",
       "2  0.000000      0.000000  \n",
       "3  0.000000      0.000000  \n",
       "4  0.800000      0.750000  "
      ]
     },
     "execution_count": 85,
     "metadata": {},
     "output_type": "execute_result"
    }
   ],
   "source": [
    "# Calculate the values and add them to our df.\n",
    "raw5['polarity'] = raw5['text_fixed'].apply(lambda x: TextBlob(x).sentiment[0])\n",
    "raw5['subjectivity'] = raw5['text_fixed'].apply(lambda x: TextBlob(x).sentiment[1])\n",
    "raw5.head()"
   ]
  },
  {
   "cell_type": "code",
   "execution_count": 88,
   "metadata": {},
   "outputs": [],
   "source": [
    "# Create a table of summary stats for our whole df and can group by 'brand' or 'feelings.'\n",
    "# display (raw5[raw5['brand'] == \"Apple\"] [['brand', 'polarity', 'subjectivity']].groupby ('brand').agg([np.mean, np.max, np.minimum, np.median]))\n",
    "# raw5[raw5['brand'] == \"Google\"] [['brand', 'polarity', 'subjectivity']].groupby ('brand').agg([np.mean, np.max, np.minimum, np.median])"
   ]
  },
  {
   "cell_type": "code",
   "execution_count": 89,
   "metadata": {},
   "outputs": [
    {
     "data": {
      "text/html": [
       "<div>\n",
       "<style scoped>\n",
       "    .dataframe tbody tr th:only-of-type {\n",
       "        vertical-align: middle;\n",
       "    }\n",
       "\n",
       "    .dataframe tbody tr th {\n",
       "        vertical-align: top;\n",
       "    }\n",
       "\n",
       "    .dataframe thead th {\n",
       "        text-align: right;\n",
       "    }\n",
       "</style>\n",
       "<table border=\"1\" class=\"dataframe\">\n",
       "  <thead>\n",
       "    <tr style=\"text-align: right;\">\n",
       "      <th></th>\n",
       "      <th>feelings</th>\n",
       "      <th>char_count</th>\n",
       "      <th>stopwords</th>\n",
       "      <th>polarity</th>\n",
       "      <th>subjectivity</th>\n",
       "    </tr>\n",
       "  </thead>\n",
       "  <tbody>\n",
       "    <tr>\n",
       "      <th>count</th>\n",
       "      <td>3182.000000</td>\n",
       "      <td>3182.000000</td>\n",
       "      <td>3182.000000</td>\n",
       "      <td>3182.000000</td>\n",
       "      <td>3182.000000</td>\n",
       "    </tr>\n",
       "    <tr>\n",
       "      <th>mean</th>\n",
       "      <td>0.837209</td>\n",
       "      <td>98.950660</td>\n",
       "      <td>5.674419</td>\n",
       "      <td>0.180310</td>\n",
       "      <td>0.394471</td>\n",
       "    </tr>\n",
       "    <tr>\n",
       "      <th>std</th>\n",
       "      <td>0.369233</td>\n",
       "      <td>26.099363</td>\n",
       "      <td>3.045226</td>\n",
       "      <td>0.302532</td>\n",
       "      <td>0.321865</td>\n",
       "    </tr>\n",
       "    <tr>\n",
       "      <th>min</th>\n",
       "      <td>0.000000</td>\n",
       "      <td>23.000000</td>\n",
       "      <td>0.000000</td>\n",
       "      <td>-1.000000</td>\n",
       "      <td>0.000000</td>\n",
       "    </tr>\n",
       "    <tr>\n",
       "      <th>25%</th>\n",
       "      <td>1.000000</td>\n",
       "      <td>81.000000</td>\n",
       "      <td>3.000000</td>\n",
       "      <td>0.000000</td>\n",
       "      <td>0.000000</td>\n",
       "    </tr>\n",
       "    <tr>\n",
       "      <th>50%</th>\n",
       "      <td>1.000000</td>\n",
       "      <td>103.000000</td>\n",
       "      <td>5.000000</td>\n",
       "      <td>0.116553</td>\n",
       "      <td>0.425000</td>\n",
       "    </tr>\n",
       "    <tr>\n",
       "      <th>75%</th>\n",
       "      <td>1.000000</td>\n",
       "      <td>120.000000</td>\n",
       "      <td>8.000000</td>\n",
       "      <td>0.350000</td>\n",
       "      <td>0.642857</td>\n",
       "    </tr>\n",
       "    <tr>\n",
       "      <th>max</th>\n",
       "      <td>1.000000</td>\n",
       "      <td>153.000000</td>\n",
       "      <td>17.000000</td>\n",
       "      <td>1.000000</td>\n",
       "      <td>1.000000</td>\n",
       "    </tr>\n",
       "  </tbody>\n",
       "</table>\n",
       "</div>"
      ],
      "text/plain": [
       "          feelings   char_count    stopwords     polarity  subjectivity\n",
       "count  3182.000000  3182.000000  3182.000000  3182.000000   3182.000000\n",
       "mean      0.837209    98.950660     5.674419     0.180310      0.394471\n",
       "std       0.369233    26.099363     3.045226     0.302532      0.321865\n",
       "min       0.000000    23.000000     0.000000    -1.000000      0.000000\n",
       "25%       1.000000    81.000000     3.000000     0.000000      0.000000\n",
       "50%       1.000000   103.000000     5.000000     0.116553      0.425000\n",
       "75%       1.000000   120.000000     8.000000     0.350000      0.642857\n",
       "max       1.000000   153.000000    17.000000     1.000000      1.000000"
      ]
     },
     "execution_count": 89,
     "metadata": {},
     "output_type": "execute_result"
    }
   ],
   "source": [
    "raw5.describe()"
   ]
  },
  {
   "cell_type": "code",
   "execution_count": 90,
   "metadata": {},
   "outputs": [
    {
     "data": {
      "text/html": [
       "<div>\n",
       "<style scoped>\n",
       "    .dataframe tbody tr th:only-of-type {\n",
       "        vertical-align: middle;\n",
       "    }\n",
       "\n",
       "    .dataframe tbody tr th {\n",
       "        vertical-align: top;\n",
       "    }\n",
       "\n",
       "    .dataframe thead tr th {\n",
       "        text-align: left;\n",
       "    }\n",
       "\n",
       "    .dataframe thead tr:last-of-type th {\n",
       "        text-align: right;\n",
       "    }\n",
       "</style>\n",
       "<table border=\"1\" class=\"dataframe\">\n",
       "  <thead>\n",
       "    <tr>\n",
       "      <th></th>\n",
       "      <th colspan=\"8\" halign=\"left\">feelings</th>\n",
       "      <th colspan=\"8\" halign=\"left\">char_count</th>\n",
       "      <th colspan=\"8\" halign=\"left\">stopwords</th>\n",
       "      <th colspan=\"8\" halign=\"left\">polarity</th>\n",
       "      <th colspan=\"8\" halign=\"left\">subjectivity</th>\n",
       "    </tr>\n",
       "    <tr>\n",
       "      <th></th>\n",
       "      <th>count</th>\n",
       "      <th>mean</th>\n",
       "      <th>std</th>\n",
       "      <th>min</th>\n",
       "      <th>25%</th>\n",
       "      <th>50%</th>\n",
       "      <th>75%</th>\n",
       "      <th>max</th>\n",
       "      <th>count</th>\n",
       "      <th>mean</th>\n",
       "      <th>std</th>\n",
       "      <th>min</th>\n",
       "      <th>25%</th>\n",
       "      <th>50%</th>\n",
       "      <th>75%</th>\n",
       "      <th>max</th>\n",
       "      <th>count</th>\n",
       "      <th>mean</th>\n",
       "      <th>std</th>\n",
       "      <th>min</th>\n",
       "      <th>25%</th>\n",
       "      <th>50%</th>\n",
       "      <th>75%</th>\n",
       "      <th>max</th>\n",
       "      <th>count</th>\n",
       "      <th>mean</th>\n",
       "      <th>std</th>\n",
       "      <th>min</th>\n",
       "      <th>25%</th>\n",
       "      <th>50%</th>\n",
       "      <th>75%</th>\n",
       "      <th>max</th>\n",
       "      <th>count</th>\n",
       "      <th>mean</th>\n",
       "      <th>std</th>\n",
       "      <th>min</th>\n",
       "      <th>25%</th>\n",
       "      <th>50%</th>\n",
       "      <th>75%</th>\n",
       "      <th>max</th>\n",
       "    </tr>\n",
       "    <tr>\n",
       "      <th>brand</th>\n",
       "      <th></th>\n",
       "      <th></th>\n",
       "      <th></th>\n",
       "      <th></th>\n",
       "      <th></th>\n",
       "      <th></th>\n",
       "      <th></th>\n",
       "      <th></th>\n",
       "      <th></th>\n",
       "      <th></th>\n",
       "      <th></th>\n",
       "      <th></th>\n",
       "      <th></th>\n",
       "      <th></th>\n",
       "      <th></th>\n",
       "      <th></th>\n",
       "      <th></th>\n",
       "      <th></th>\n",
       "      <th></th>\n",
       "      <th></th>\n",
       "      <th></th>\n",
       "      <th></th>\n",
       "      <th></th>\n",
       "      <th></th>\n",
       "      <th></th>\n",
       "      <th></th>\n",
       "      <th></th>\n",
       "      <th></th>\n",
       "      <th></th>\n",
       "      <th></th>\n",
       "      <th></th>\n",
       "      <th></th>\n",
       "      <th></th>\n",
       "      <th></th>\n",
       "      <th></th>\n",
       "      <th></th>\n",
       "      <th></th>\n",
       "      <th></th>\n",
       "      <th></th>\n",
       "      <th></th>\n",
       "    </tr>\n",
       "  </thead>\n",
       "  <tbody>\n",
       "    <tr>\n",
       "      <th>Apple</th>\n",
       "      <td>2332.0</td>\n",
       "      <td>0.834048</td>\n",
       "      <td>0.372117</td>\n",
       "      <td>0.0</td>\n",
       "      <td>1.0</td>\n",
       "      <td>1.0</td>\n",
       "      <td>1.0</td>\n",
       "      <td>1.0</td>\n",
       "      <td>2332.0</td>\n",
       "      <td>97.996569</td>\n",
       "      <td>26.169365</td>\n",
       "      <td>23.0</td>\n",
       "      <td>79.0</td>\n",
       "      <td>102.0</td>\n",
       "      <td>119.0</td>\n",
       "      <td>153.0</td>\n",
       "      <td>2332.0</td>\n",
       "      <td>6.008148</td>\n",
       "      <td>3.070378</td>\n",
       "      <td>0.0</td>\n",
       "      <td>4.0</td>\n",
       "      <td>6.0</td>\n",
       "      <td>8.0</td>\n",
       "      <td>17.0</td>\n",
       "      <td>2332.0</td>\n",
       "      <td>0.175830</td>\n",
       "      <td>0.303132</td>\n",
       "      <td>-1.0</td>\n",
       "      <td>0.0</td>\n",
       "      <td>0.100000</td>\n",
       "      <td>0.350000</td>\n",
       "      <td>1.0</td>\n",
       "      <td>2332.0</td>\n",
       "      <td>0.393394</td>\n",
       "      <td>0.326526</td>\n",
       "      <td>0.0</td>\n",
       "      <td>0.000000</td>\n",
       "      <td>0.428451</td>\n",
       "      <td>0.650000</td>\n",
       "      <td>1.0</td>\n",
       "    </tr>\n",
       "    <tr>\n",
       "      <th>Google</th>\n",
       "      <td>850.0</td>\n",
       "      <td>0.845882</td>\n",
       "      <td>0.361274</td>\n",
       "      <td>0.0</td>\n",
       "      <td>1.0</td>\n",
       "      <td>1.0</td>\n",
       "      <td>1.0</td>\n",
       "      <td>1.0</td>\n",
       "      <td>850.0</td>\n",
       "      <td>101.568235</td>\n",
       "      <td>25.740495</td>\n",
       "      <td>24.0</td>\n",
       "      <td>83.0</td>\n",
       "      <td>107.0</td>\n",
       "      <td>121.0</td>\n",
       "      <td>151.0</td>\n",
       "      <td>850.0</td>\n",
       "      <td>4.758824</td>\n",
       "      <td>2.777912</td>\n",
       "      <td>0.0</td>\n",
       "      <td>3.0</td>\n",
       "      <td>4.0</td>\n",
       "      <td>7.0</td>\n",
       "      <td>15.0</td>\n",
       "      <td>850.0</td>\n",
       "      <td>0.192602</td>\n",
       "      <td>0.300715</td>\n",
       "      <td>-1.0</td>\n",
       "      <td>0.0</td>\n",
       "      <td>0.136364</td>\n",
       "      <td>0.358929</td>\n",
       "      <td>1.0</td>\n",
       "      <td>850.0</td>\n",
       "      <td>0.397427</td>\n",
       "      <td>0.308885</td>\n",
       "      <td>0.0</td>\n",
       "      <td>0.071429</td>\n",
       "      <td>0.408333</td>\n",
       "      <td>0.601515</td>\n",
       "      <td>1.0</td>\n",
       "    </tr>\n",
       "  </tbody>\n",
       "</table>\n",
       "</div>"
      ],
      "text/plain": [
       "       feelings                                              char_count  \\\n",
       "          count      mean       std  min  25%  50%  75%  max      count   \n",
       "brand                                                                     \n",
       "Apple    2332.0  0.834048  0.372117  0.0  1.0  1.0  1.0  1.0     2332.0   \n",
       "Google    850.0  0.845882  0.361274  0.0  1.0  1.0  1.0  1.0      850.0   \n",
       "\n",
       "                                                               stopwords  \\\n",
       "              mean        std   min   25%    50%    75%    max     count   \n",
       "brand                                                                      \n",
       "Apple    97.996569  26.169365  23.0  79.0  102.0  119.0  153.0    2332.0   \n",
       "Google  101.568235  25.740495  24.0  83.0  107.0  121.0  151.0     850.0   \n",
       "\n",
       "                                                     polarity            \\\n",
       "            mean       std  min  25%  50%  75%   max    count      mean   \n",
       "brand                                                                     \n",
       "Apple   6.008148  3.070378  0.0  4.0  6.0  8.0  17.0   2332.0  0.175830   \n",
       "Google  4.758824  2.777912  0.0  3.0  4.0  7.0  15.0    850.0  0.192602   \n",
       "\n",
       "                                                    subjectivity            \\\n",
       "             std  min  25%       50%       75%  max        count      mean   \n",
       "brand                                                                        \n",
       "Apple   0.303132 -1.0  0.0  0.100000  0.350000  1.0       2332.0  0.393394   \n",
       "Google  0.300715 -1.0  0.0  0.136364  0.358929  1.0        850.0  0.397427   \n",
       "\n",
       "                                                          \n",
       "             std  min       25%       50%       75%  max  \n",
       "brand                                                     \n",
       "Apple   0.326526  0.0  0.000000  0.428451  0.650000  1.0  \n",
       "Google  0.308885  0.0  0.071429  0.408333  0.601515  1.0  "
      ]
     },
     "execution_count": 90,
     "metadata": {},
     "output_type": "execute_result"
    }
   ],
   "source": [
    "raw5.groupby('brand').describe()"
   ]
  },
  {
   "cell_type": "code",
   "execution_count": 91,
   "metadata": {},
   "outputs": [
    {
     "data": {
      "text/html": [
       "<div>\n",
       "<style scoped>\n",
       "    .dataframe tbody tr th:only-of-type {\n",
       "        vertical-align: middle;\n",
       "    }\n",
       "\n",
       "    .dataframe tbody tr th {\n",
       "        vertical-align: top;\n",
       "    }\n",
       "\n",
       "    .dataframe thead tr th {\n",
       "        text-align: left;\n",
       "    }\n",
       "\n",
       "    .dataframe thead tr:last-of-type th {\n",
       "        text-align: right;\n",
       "    }\n",
       "</style>\n",
       "<table border=\"1\" class=\"dataframe\">\n",
       "  <thead>\n",
       "    <tr>\n",
       "      <th></th>\n",
       "      <th colspan=\"8\" halign=\"left\">char_count</th>\n",
       "      <th colspan=\"8\" halign=\"left\">stopwords</th>\n",
       "      <th colspan=\"8\" halign=\"left\">polarity</th>\n",
       "      <th colspan=\"8\" halign=\"left\">subjectivity</th>\n",
       "    </tr>\n",
       "    <tr>\n",
       "      <th></th>\n",
       "      <th>count</th>\n",
       "      <th>mean</th>\n",
       "      <th>std</th>\n",
       "      <th>min</th>\n",
       "      <th>25%</th>\n",
       "      <th>50%</th>\n",
       "      <th>75%</th>\n",
       "      <th>max</th>\n",
       "      <th>count</th>\n",
       "      <th>mean</th>\n",
       "      <th>std</th>\n",
       "      <th>min</th>\n",
       "      <th>25%</th>\n",
       "      <th>50%</th>\n",
       "      <th>75%</th>\n",
       "      <th>max</th>\n",
       "      <th>count</th>\n",
       "      <th>mean</th>\n",
       "      <th>std</th>\n",
       "      <th>min</th>\n",
       "      <th>25%</th>\n",
       "      <th>50%</th>\n",
       "      <th>75%</th>\n",
       "      <th>max</th>\n",
       "      <th>count</th>\n",
       "      <th>mean</th>\n",
       "      <th>std</th>\n",
       "      <th>min</th>\n",
       "      <th>25%</th>\n",
       "      <th>50%</th>\n",
       "      <th>75%</th>\n",
       "      <th>max</th>\n",
       "    </tr>\n",
       "    <tr>\n",
       "      <th>feelings</th>\n",
       "      <th></th>\n",
       "      <th></th>\n",
       "      <th></th>\n",
       "      <th></th>\n",
       "      <th></th>\n",
       "      <th></th>\n",
       "      <th></th>\n",
       "      <th></th>\n",
       "      <th></th>\n",
       "      <th></th>\n",
       "      <th></th>\n",
       "      <th></th>\n",
       "      <th></th>\n",
       "      <th></th>\n",
       "      <th></th>\n",
       "      <th></th>\n",
       "      <th></th>\n",
       "      <th></th>\n",
       "      <th></th>\n",
       "      <th></th>\n",
       "      <th></th>\n",
       "      <th></th>\n",
       "      <th></th>\n",
       "      <th></th>\n",
       "      <th></th>\n",
       "      <th></th>\n",
       "      <th></th>\n",
       "      <th></th>\n",
       "      <th></th>\n",
       "      <th></th>\n",
       "      <th></th>\n",
       "      <th></th>\n",
       "    </tr>\n",
       "  </thead>\n",
       "  <tbody>\n",
       "    <tr>\n",
       "      <th>0</th>\n",
       "      <td>518.0</td>\n",
       "      <td>102.345560</td>\n",
       "      <td>26.315786</td>\n",
       "      <td>33.0</td>\n",
       "      <td>84.0</td>\n",
       "      <td>106.0</td>\n",
       "      <td>125.0</td>\n",
       "      <td>148.0</td>\n",
       "      <td>518.0</td>\n",
       "      <td>6.249035</td>\n",
       "      <td>3.198426</td>\n",
       "      <td>0.0</td>\n",
       "      <td>4.0</td>\n",
       "      <td>6.0</td>\n",
       "      <td>8.0</td>\n",
       "      <td>16.0</td>\n",
       "      <td>518.0</td>\n",
       "      <td>0.029767</td>\n",
       "      <td>0.334095</td>\n",
       "      <td>-1.0</td>\n",
       "      <td>-0.041667</td>\n",
       "      <td>0.000000</td>\n",
       "      <td>0.183333</td>\n",
       "      <td>1.0</td>\n",
       "      <td>518.0</td>\n",
       "      <td>0.366644</td>\n",
       "      <td>0.330473</td>\n",
       "      <td>0.0</td>\n",
       "      <td>0.0</td>\n",
       "      <td>0.316667</td>\n",
       "      <td>0.600000</td>\n",
       "      <td>1.0</td>\n",
       "    </tr>\n",
       "    <tr>\n",
       "      <th>1</th>\n",
       "      <td>2664.0</td>\n",
       "      <td>98.290541</td>\n",
       "      <td>26.010621</td>\n",
       "      <td>23.0</td>\n",
       "      <td>80.0</td>\n",
       "      <td>102.0</td>\n",
       "      <td>119.0</td>\n",
       "      <td>153.0</td>\n",
       "      <td>2664.0</td>\n",
       "      <td>5.562688</td>\n",
       "      <td>3.002411</td>\n",
       "      <td>0.0</td>\n",
       "      <td>3.0</td>\n",
       "      <td>5.0</td>\n",
       "      <td>8.0</td>\n",
       "      <td>17.0</td>\n",
       "      <td>2664.0</td>\n",
       "      <td>0.209582</td>\n",
       "      <td>0.287043</td>\n",
       "      <td>-1.0</td>\n",
       "      <td>0.000000</td>\n",
       "      <td>0.136364</td>\n",
       "      <td>0.375000</td>\n",
       "      <td>1.0</td>\n",
       "      <td>2664.0</td>\n",
       "      <td>0.399882</td>\n",
       "      <td>0.319947</td>\n",
       "      <td>0.0</td>\n",
       "      <td>0.0</td>\n",
       "      <td>0.438636</td>\n",
       "      <td>0.642857</td>\n",
       "      <td>1.0</td>\n",
       "    </tr>\n",
       "  </tbody>\n",
       "</table>\n",
       "</div>"
      ],
      "text/plain": [
       "         char_count                                                          \\\n",
       "              count        mean        std   min   25%    50%    75%    max   \n",
       "feelings                                                                      \n",
       "0             518.0  102.345560  26.315786  33.0  84.0  106.0  125.0  148.0   \n",
       "1            2664.0   98.290541  26.010621  23.0  80.0  102.0  119.0  153.0   \n",
       "\n",
       "         stopwords                                               polarity  \\\n",
       "             count      mean       std  min  25%  50%  75%   max    count   \n",
       "feelings                                                                    \n",
       "0            518.0  6.249035  3.198426  0.0  4.0  6.0  8.0  16.0    518.0   \n",
       "1           2664.0  5.562688  3.002411  0.0  3.0  5.0  8.0  17.0   2664.0   \n",
       "\n",
       "                                                                      \\\n",
       "              mean       std  min       25%       50%       75%  max   \n",
       "feelings                                                               \n",
       "0         0.029767  0.334095 -1.0 -0.041667  0.000000  0.183333  1.0   \n",
       "1         0.209582  0.287043 -1.0  0.000000  0.136364  0.375000  1.0   \n",
       "\n",
       "         subjectivity                                                         \n",
       "                count      mean       std  min  25%       50%       75%  max  \n",
       "feelings                                                                      \n",
       "0               518.0  0.366644  0.330473  0.0  0.0  0.316667  0.600000  1.0  \n",
       "1              2664.0  0.399882  0.319947  0.0  0.0  0.438636  0.642857  1.0  "
      ]
     },
     "execution_count": 91,
     "metadata": {},
     "output_type": "execute_result"
    }
   ],
   "source": [
    "raw5.groupby('feelings').describe()"
   ]
  },
  {
   "cell_type": "code",
   "execution_count": 108,
   "metadata": {},
   "outputs": [
    {
     "data": {
      "text/html": [
       "<div>\n",
       "<style scoped>\n",
       "    .dataframe tbody tr th:only-of-type {\n",
       "        vertical-align: middle;\n",
       "    }\n",
       "\n",
       "    .dataframe tbody tr th {\n",
       "        vertical-align: top;\n",
       "    }\n",
       "\n",
       "    .dataframe thead th {\n",
       "        text-align: right;\n",
       "    }\n",
       "</style>\n",
       "<table border=\"1\" class=\"dataframe\">\n",
       "  <thead>\n",
       "    <tr style=\"text-align: right;\">\n",
       "      <th></th>\n",
       "      <th>text</th>\n",
       "      <th>brand</th>\n",
       "      <th>feelings</th>\n",
       "      <th>text_fixed</th>\n",
       "      <th>char_count</th>\n",
       "      <th>stopwords</th>\n",
       "      <th>polarity</th>\n",
       "      <th>subjectivity</th>\n",
       "    </tr>\n",
       "  </thead>\n",
       "  <tbody>\n",
       "    <tr>\n",
       "      <th>0</th>\n",
       "      <td>.@wesley83 I have a 3G iPhone. After 3 hrs twe...</td>\n",
       "      <td>Apple</td>\n",
       "      <td>0</td>\n",
       "      <td>wesley83 3g 3 hrs tweeting rise_austin dead ne...</td>\n",
       "      <td>117</td>\n",
       "      <td>10</td>\n",
       "      <td>-0.200000</td>\n",
       "      <td>0.400000</td>\n",
       "    </tr>\n",
       "    <tr>\n",
       "      <th>1</th>\n",
       "      <td>@jessedee Know about @fludapp ? Awesome iPad/i...</td>\n",
       "      <td>Apple</td>\n",
       "      <td>1</td>\n",
       "      <td>jessedee know fludapp awesome ipadiphone youll...</td>\n",
       "      <td>130</td>\n",
       "      <td>5</td>\n",
       "      <td>0.466667</td>\n",
       "      <td>0.933333</td>\n",
       "    </tr>\n",
       "    <tr>\n",
       "      <th>2</th>\n",
       "      <td>@swonderlin Can not wait for #iPad 2 also. The...</td>\n",
       "      <td>Apple</td>\n",
       "      <td>1</td>\n",
       "      <td>swonderlin wait also sale</td>\n",
       "      <td>74</td>\n",
       "      <td>8</td>\n",
       "      <td>0.000000</td>\n",
       "      <td>0.000000</td>\n",
       "    </tr>\n",
       "    <tr>\n",
       "      <th>3</th>\n",
       "      <td>@sxsw I hope this year's festival isn't as cra...</td>\n",
       "      <td>Apple</td>\n",
       "      <td>0</td>\n",
       "      <td>hope years festival isnt crashy years</td>\n",
       "      <td>76</td>\n",
       "      <td>5</td>\n",
       "      <td>0.000000</td>\n",
       "      <td>0.000000</td>\n",
       "    </tr>\n",
       "    <tr>\n",
       "      <th>4</th>\n",
       "      <td>@sxtxstate great stuff on Fri #SXSW: Marissa M...</td>\n",
       "      <td>Google</td>\n",
       "      <td>1</td>\n",
       "      <td>sxtxstate great stuff fri marissa mayer tim or...</td>\n",
       "      <td>117</td>\n",
       "      <td>1</td>\n",
       "      <td>0.800000</td>\n",
       "      <td>0.750000</td>\n",
       "    </tr>\n",
       "  </tbody>\n",
       "</table>\n",
       "</div>"
      ],
      "text/plain": [
       "                                                text   brand  feelings  \\\n",
       "0  .@wesley83 I have a 3G iPhone. After 3 hrs twe...   Apple         0   \n",
       "1  @jessedee Know about @fludapp ? Awesome iPad/i...   Apple         1   \n",
       "2  @swonderlin Can not wait for #iPad 2 also. The...   Apple         1   \n",
       "3  @sxsw I hope this year's festival isn't as cra...   Apple         0   \n",
       "4  @sxtxstate great stuff on Fri #SXSW: Marissa M...  Google         1   \n",
       "\n",
       "                                          text_fixed  char_count  stopwords  \\\n",
       "0  wesley83 3g 3 hrs tweeting rise_austin dead ne...         117         10   \n",
       "1  jessedee know fludapp awesome ipadiphone youll...         130          5   \n",
       "2                          swonderlin wait also sale          74          8   \n",
       "3              hope years festival isnt crashy years          76          5   \n",
       "4  sxtxstate great stuff fri marissa mayer tim or...         117          1   \n",
       "\n",
       "   polarity  subjectivity  \n",
       "0 -0.200000      0.400000  \n",
       "1  0.466667      0.933333  \n",
       "2  0.000000      0.000000  \n",
       "3  0.000000      0.000000  \n",
       "4  0.800000      0.750000  "
      ]
     },
     "execution_count": 108,
     "metadata": {},
     "output_type": "execute_result"
    }
   ],
   "source": [
    "# RE-Run this with raw6... which has more stop words cut out. \n",
    "# Calculate the values and add them to our df.\n",
    "raw6['polarity'] = raw6['text_fixed'].apply(lambda x: TextBlob(x).sentiment[0])\n",
    "raw6['subjectivity'] = raw6['text_fixed'].apply(lambda x: TextBlob(x).sentiment[1])\n",
    "raw6.head()"
   ]
  },
  {
   "cell_type": "code",
   "execution_count": 109,
   "metadata": {},
   "outputs": [
    {
     "data": {
      "text/html": [
       "<div>\n",
       "<style scoped>\n",
       "    .dataframe tbody tr th:only-of-type {\n",
       "        vertical-align: middle;\n",
       "    }\n",
       "\n",
       "    .dataframe tbody tr th {\n",
       "        vertical-align: top;\n",
       "    }\n",
       "\n",
       "    .dataframe thead tr th {\n",
       "        text-align: left;\n",
       "    }\n",
       "\n",
       "    .dataframe thead tr:last-of-type th {\n",
       "        text-align: right;\n",
       "    }\n",
       "</style>\n",
       "<table border=\"1\" class=\"dataframe\">\n",
       "  <thead>\n",
       "    <tr>\n",
       "      <th></th>\n",
       "      <th colspan=\"8\" halign=\"left\">feelings</th>\n",
       "      <th colspan=\"8\" halign=\"left\">char_count</th>\n",
       "      <th colspan=\"8\" halign=\"left\">stopwords</th>\n",
       "      <th colspan=\"8\" halign=\"left\">polarity</th>\n",
       "      <th colspan=\"8\" halign=\"left\">subjectivity</th>\n",
       "    </tr>\n",
       "    <tr>\n",
       "      <th></th>\n",
       "      <th>count</th>\n",
       "      <th>mean</th>\n",
       "      <th>std</th>\n",
       "      <th>min</th>\n",
       "      <th>25%</th>\n",
       "      <th>50%</th>\n",
       "      <th>75%</th>\n",
       "      <th>max</th>\n",
       "      <th>count</th>\n",
       "      <th>mean</th>\n",
       "      <th>std</th>\n",
       "      <th>min</th>\n",
       "      <th>25%</th>\n",
       "      <th>50%</th>\n",
       "      <th>75%</th>\n",
       "      <th>max</th>\n",
       "      <th>count</th>\n",
       "      <th>mean</th>\n",
       "      <th>std</th>\n",
       "      <th>min</th>\n",
       "      <th>25%</th>\n",
       "      <th>50%</th>\n",
       "      <th>75%</th>\n",
       "      <th>max</th>\n",
       "      <th>count</th>\n",
       "      <th>mean</th>\n",
       "      <th>std</th>\n",
       "      <th>min</th>\n",
       "      <th>25%</th>\n",
       "      <th>50%</th>\n",
       "      <th>75%</th>\n",
       "      <th>max</th>\n",
       "      <th>count</th>\n",
       "      <th>mean</th>\n",
       "      <th>std</th>\n",
       "      <th>min</th>\n",
       "      <th>25%</th>\n",
       "      <th>50%</th>\n",
       "      <th>75%</th>\n",
       "      <th>max</th>\n",
       "    </tr>\n",
       "    <tr>\n",
       "      <th>brand</th>\n",
       "      <th></th>\n",
       "      <th></th>\n",
       "      <th></th>\n",
       "      <th></th>\n",
       "      <th></th>\n",
       "      <th></th>\n",
       "      <th></th>\n",
       "      <th></th>\n",
       "      <th></th>\n",
       "      <th></th>\n",
       "      <th></th>\n",
       "      <th></th>\n",
       "      <th></th>\n",
       "      <th></th>\n",
       "      <th></th>\n",
       "      <th></th>\n",
       "      <th></th>\n",
       "      <th></th>\n",
       "      <th></th>\n",
       "      <th></th>\n",
       "      <th></th>\n",
       "      <th></th>\n",
       "      <th></th>\n",
       "      <th></th>\n",
       "      <th></th>\n",
       "      <th></th>\n",
       "      <th></th>\n",
       "      <th></th>\n",
       "      <th></th>\n",
       "      <th></th>\n",
       "      <th></th>\n",
       "      <th></th>\n",
       "      <th></th>\n",
       "      <th></th>\n",
       "      <th></th>\n",
       "      <th></th>\n",
       "      <th></th>\n",
       "      <th></th>\n",
       "      <th></th>\n",
       "      <th></th>\n",
       "    </tr>\n",
       "  </thead>\n",
       "  <tbody>\n",
       "    <tr>\n",
       "      <th>Apple</th>\n",
       "      <td>2332.0</td>\n",
       "      <td>0.834048</td>\n",
       "      <td>0.372117</td>\n",
       "      <td>0.0</td>\n",
       "      <td>1.0</td>\n",
       "      <td>1.0</td>\n",
       "      <td>1.0</td>\n",
       "      <td>1.0</td>\n",
       "      <td>2332.0</td>\n",
       "      <td>97.996569</td>\n",
       "      <td>26.169365</td>\n",
       "      <td>23.0</td>\n",
       "      <td>79.0</td>\n",
       "      <td>102.0</td>\n",
       "      <td>119.0</td>\n",
       "      <td>153.0</td>\n",
       "      <td>2332.0</td>\n",
       "      <td>6.008148</td>\n",
       "      <td>3.070378</td>\n",
       "      <td>0.0</td>\n",
       "      <td>4.0</td>\n",
       "      <td>6.0</td>\n",
       "      <td>8.0</td>\n",
       "      <td>17.0</td>\n",
       "      <td>2332.0</td>\n",
       "      <td>0.175936</td>\n",
       "      <td>0.315734</td>\n",
       "      <td>-1.0</td>\n",
       "      <td>0.0</td>\n",
       "      <td>0.065476</td>\n",
       "      <td>0.350000</td>\n",
       "      <td>1.0</td>\n",
       "      <td>2332.0</td>\n",
       "      <td>0.384577</td>\n",
       "      <td>0.340129</td>\n",
       "      <td>0.0</td>\n",
       "      <td>0.0</td>\n",
       "      <td>0.400000</td>\n",
       "      <td>0.650</td>\n",
       "      <td>1.0</td>\n",
       "    </tr>\n",
       "    <tr>\n",
       "      <th>Google</th>\n",
       "      <td>850.0</td>\n",
       "      <td>0.845882</td>\n",
       "      <td>0.361274</td>\n",
       "      <td>0.0</td>\n",
       "      <td>1.0</td>\n",
       "      <td>1.0</td>\n",
       "      <td>1.0</td>\n",
       "      <td>1.0</td>\n",
       "      <td>850.0</td>\n",
       "      <td>101.568235</td>\n",
       "      <td>25.740495</td>\n",
       "      <td>24.0</td>\n",
       "      <td>83.0</td>\n",
       "      <td>107.0</td>\n",
       "      <td>121.0</td>\n",
       "      <td>151.0</td>\n",
       "      <td>850.0</td>\n",
       "      <td>4.758824</td>\n",
       "      <td>2.777912</td>\n",
       "      <td>0.0</td>\n",
       "      <td>3.0</td>\n",
       "      <td>4.0</td>\n",
       "      <td>7.0</td>\n",
       "      <td>15.0</td>\n",
       "      <td>850.0</td>\n",
       "      <td>0.188885</td>\n",
       "      <td>0.310557</td>\n",
       "      <td>-1.0</td>\n",
       "      <td>0.0</td>\n",
       "      <td>0.114062</td>\n",
       "      <td>0.372917</td>\n",
       "      <td>1.0</td>\n",
       "      <td>850.0</td>\n",
       "      <td>0.384452</td>\n",
       "      <td>0.322650</td>\n",
       "      <td>0.0</td>\n",
       "      <td>0.0</td>\n",
       "      <td>0.380952</td>\n",
       "      <td>0.625</td>\n",
       "      <td>1.0</td>\n",
       "    </tr>\n",
       "  </tbody>\n",
       "</table>\n",
       "</div>"
      ],
      "text/plain": [
       "       feelings                                              char_count  \\\n",
       "          count      mean       std  min  25%  50%  75%  max      count   \n",
       "brand                                                                     \n",
       "Apple    2332.0  0.834048  0.372117  0.0  1.0  1.0  1.0  1.0     2332.0   \n",
       "Google    850.0  0.845882  0.361274  0.0  1.0  1.0  1.0  1.0      850.0   \n",
       "\n",
       "                                                               stopwords  \\\n",
       "              mean        std   min   25%    50%    75%    max     count   \n",
       "brand                                                                      \n",
       "Apple    97.996569  26.169365  23.0  79.0  102.0  119.0  153.0    2332.0   \n",
       "Google  101.568235  25.740495  24.0  83.0  107.0  121.0  151.0     850.0   \n",
       "\n",
       "                                                     polarity            \\\n",
       "            mean       std  min  25%  50%  75%   max    count      mean   \n",
       "brand                                                                     \n",
       "Apple   6.008148  3.070378  0.0  4.0  6.0  8.0  17.0   2332.0  0.175936   \n",
       "Google  4.758824  2.777912  0.0  3.0  4.0  7.0  15.0    850.0  0.188885   \n",
       "\n",
       "                                                    subjectivity            \\\n",
       "             std  min  25%       50%       75%  max        count      mean   \n",
       "brand                                                                        \n",
       "Apple   0.315734 -1.0  0.0  0.065476  0.350000  1.0       2332.0  0.384577   \n",
       "Google  0.310557 -1.0  0.0  0.114062  0.372917  1.0        850.0  0.384452   \n",
       "\n",
       "                                                  \n",
       "             std  min  25%       50%    75%  max  \n",
       "brand                                             \n",
       "Apple   0.340129  0.0  0.0  0.400000  0.650  1.0  \n",
       "Google  0.322650  0.0  0.0  0.380952  0.625  1.0  "
      ]
     },
     "execution_count": 109,
     "metadata": {},
     "output_type": "execute_result"
    }
   ],
   "source": [
    "raw6.groupby('brand').describe()"
   ]
  },
  {
   "cell_type": "code",
   "execution_count": 110,
   "metadata": {},
   "outputs": [
    {
     "data": {
      "text/html": [
       "<div>\n",
       "<style scoped>\n",
       "    .dataframe tbody tr th:only-of-type {\n",
       "        vertical-align: middle;\n",
       "    }\n",
       "\n",
       "    .dataframe tbody tr th {\n",
       "        vertical-align: top;\n",
       "    }\n",
       "\n",
       "    .dataframe thead tr th {\n",
       "        text-align: left;\n",
       "    }\n",
       "\n",
       "    .dataframe thead tr:last-of-type th {\n",
       "        text-align: right;\n",
       "    }\n",
       "</style>\n",
       "<table border=\"1\" class=\"dataframe\">\n",
       "  <thead>\n",
       "    <tr>\n",
       "      <th></th>\n",
       "      <th colspan=\"8\" halign=\"left\">char_count</th>\n",
       "      <th colspan=\"8\" halign=\"left\">stopwords</th>\n",
       "      <th colspan=\"8\" halign=\"left\">polarity</th>\n",
       "      <th colspan=\"8\" halign=\"left\">subjectivity</th>\n",
       "    </tr>\n",
       "    <tr>\n",
       "      <th></th>\n",
       "      <th>count</th>\n",
       "      <th>mean</th>\n",
       "      <th>std</th>\n",
       "      <th>min</th>\n",
       "      <th>25%</th>\n",
       "      <th>50%</th>\n",
       "      <th>75%</th>\n",
       "      <th>max</th>\n",
       "      <th>count</th>\n",
       "      <th>mean</th>\n",
       "      <th>std</th>\n",
       "      <th>min</th>\n",
       "      <th>25%</th>\n",
       "      <th>50%</th>\n",
       "      <th>75%</th>\n",
       "      <th>max</th>\n",
       "      <th>count</th>\n",
       "      <th>mean</th>\n",
       "      <th>std</th>\n",
       "      <th>min</th>\n",
       "      <th>25%</th>\n",
       "      <th>50%</th>\n",
       "      <th>75%</th>\n",
       "      <th>max</th>\n",
       "      <th>count</th>\n",
       "      <th>mean</th>\n",
       "      <th>std</th>\n",
       "      <th>min</th>\n",
       "      <th>25%</th>\n",
       "      <th>50%</th>\n",
       "      <th>75%</th>\n",
       "      <th>max</th>\n",
       "    </tr>\n",
       "    <tr>\n",
       "      <th>feelings</th>\n",
       "      <th></th>\n",
       "      <th></th>\n",
       "      <th></th>\n",
       "      <th></th>\n",
       "      <th></th>\n",
       "      <th></th>\n",
       "      <th></th>\n",
       "      <th></th>\n",
       "      <th></th>\n",
       "      <th></th>\n",
       "      <th></th>\n",
       "      <th></th>\n",
       "      <th></th>\n",
       "      <th></th>\n",
       "      <th></th>\n",
       "      <th></th>\n",
       "      <th></th>\n",
       "      <th></th>\n",
       "      <th></th>\n",
       "      <th></th>\n",
       "      <th></th>\n",
       "      <th></th>\n",
       "      <th></th>\n",
       "      <th></th>\n",
       "      <th></th>\n",
       "      <th></th>\n",
       "      <th></th>\n",
       "      <th></th>\n",
       "      <th></th>\n",
       "      <th></th>\n",
       "      <th></th>\n",
       "      <th></th>\n",
       "    </tr>\n",
       "  </thead>\n",
       "  <tbody>\n",
       "    <tr>\n",
       "      <th>0</th>\n",
       "      <td>518.0</td>\n",
       "      <td>102.345560</td>\n",
       "      <td>26.315786</td>\n",
       "      <td>33.0</td>\n",
       "      <td>84.0</td>\n",
       "      <td>106.0</td>\n",
       "      <td>125.0</td>\n",
       "      <td>148.0</td>\n",
       "      <td>518.0</td>\n",
       "      <td>6.249035</td>\n",
       "      <td>3.198426</td>\n",
       "      <td>0.0</td>\n",
       "      <td>4.0</td>\n",
       "      <td>6.0</td>\n",
       "      <td>8.0</td>\n",
       "      <td>16.0</td>\n",
       "      <td>518.0</td>\n",
       "      <td>0.022475</td>\n",
       "      <td>0.340207</td>\n",
       "      <td>-1.0</td>\n",
       "      <td>-0.05</td>\n",
       "      <td>0.000000</td>\n",
       "      <td>0.183333</td>\n",
       "      <td>1.0</td>\n",
       "      <td>518.0</td>\n",
       "      <td>0.360173</td>\n",
       "      <td>0.337410</td>\n",
       "      <td>0.0</td>\n",
       "      <td>0.0</td>\n",
       "      <td>0.3</td>\n",
       "      <td>0.625</td>\n",
       "      <td>1.0</td>\n",
       "    </tr>\n",
       "    <tr>\n",
       "      <th>1</th>\n",
       "      <td>2664.0</td>\n",
       "      <td>98.290541</td>\n",
       "      <td>26.010621</td>\n",
       "      <td>23.0</td>\n",
       "      <td>80.0</td>\n",
       "      <td>102.0</td>\n",
       "      <td>119.0</td>\n",
       "      <td>153.0</td>\n",
       "      <td>2664.0</td>\n",
       "      <td>5.562688</td>\n",
       "      <td>3.002411</td>\n",
       "      <td>0.0</td>\n",
       "      <td>3.0</td>\n",
       "      <td>5.0</td>\n",
       "      <td>8.0</td>\n",
       "      <td>17.0</td>\n",
       "      <td>2664.0</td>\n",
       "      <td>0.209907</td>\n",
       "      <td>0.299760</td>\n",
       "      <td>-1.0</td>\n",
       "      <td>0.00</td>\n",
       "      <td>0.136364</td>\n",
       "      <td>0.400000</td>\n",
       "      <td>1.0</td>\n",
       "      <td>2664.0</td>\n",
       "      <td>0.389283</td>\n",
       "      <td>0.334983</td>\n",
       "      <td>0.0</td>\n",
       "      <td>0.0</td>\n",
       "      <td>0.4</td>\n",
       "      <td>0.650</td>\n",
       "      <td>1.0</td>\n",
       "    </tr>\n",
       "  </tbody>\n",
       "</table>\n",
       "</div>"
      ],
      "text/plain": [
       "         char_count                                                          \\\n",
       "              count        mean        std   min   25%    50%    75%    max   \n",
       "feelings                                                                      \n",
       "0             518.0  102.345560  26.315786  33.0  84.0  106.0  125.0  148.0   \n",
       "1            2664.0   98.290541  26.010621  23.0  80.0  102.0  119.0  153.0   \n",
       "\n",
       "         stopwords                                               polarity  \\\n",
       "             count      mean       std  min  25%  50%  75%   max    count   \n",
       "feelings                                                                    \n",
       "0            518.0  6.249035  3.198426  0.0  4.0  6.0  8.0  16.0    518.0   \n",
       "1           2664.0  5.562688  3.002411  0.0  3.0  5.0  8.0  17.0   2664.0   \n",
       "\n",
       "                                                                 subjectivity  \\\n",
       "              mean       std  min   25%       50%       75%  max        count   \n",
       "feelings                                                                        \n",
       "0         0.022475  0.340207 -1.0 -0.05  0.000000  0.183333  1.0        518.0   \n",
       "1         0.209907  0.299760 -1.0  0.00  0.136364  0.400000  1.0       2664.0   \n",
       "\n",
       "                                                         \n",
       "              mean       std  min  25%  50%    75%  max  \n",
       "feelings                                                 \n",
       "0         0.360173  0.337410  0.0  0.0  0.3  0.625  1.0  \n",
       "1         0.389283  0.334983  0.0  0.0  0.4  0.650  1.0  "
      ]
     },
     "execution_count": 110,
     "metadata": {},
     "output_type": "execute_result"
    }
   ],
   "source": [
    "raw6.groupby('feelings').describe()"
   ]
  },
  {
   "cell_type": "markdown",
   "metadata": {},
   "source": [
    "#### Observations on TextBlob Sentiment\n",
    "Looking at the Polarity, it is interesting that the values are fairly neutral. The negative tweets only register as having a mean of 0.02, so just above zero. And the positive tweets only go up to an average of 0.21 ... so not that much above 0."
   ]
  },
  {
   "cell_type": "code",
   "execution_count": 93,
   "metadata": {},
   "outputs": [],
   "source": [
    "# save raw5 as csv file and upload to another notebook - this is non-tokenized df\n",
    "raw5.to_csv(r'df5_tweets.csv')"
   ]
  },
  {
   "cell_type": "markdown",
   "metadata": {},
   "source": [
    "### Moving onward with pre-processing\n",
    "This includes tokenizing and lematizing and doing some visualization of top words in our dataset. \n",
    "UPDATE: adding the additional stopwords in raw6. "
   ]
  },
  {
   "cell_type": "code",
   "execution_count": 113,
   "metadata": {},
   "outputs": [],
   "source": [
    "# Tokenizing the text to words (aka tokens)\n",
    "text_str = ' '.join(raw6['text_fixed'].tolist())"
   ]
  },
  {
   "cell_type": "code",
   "execution_count": 114,
   "metadata": {},
   "outputs": [
    {
     "name": "stdout",
     "output_type": "stream",
     "text": [
      "25486\n"
     ]
    }
   ],
   "source": [
    "tokens = nltk.word_tokenize(text_str) #tokenizing \n",
    "print(len(tokens))"
   ]
  },
  {
   "cell_type": "code",
   "execution_count": 115,
   "metadata": {},
   "outputs": [],
   "source": [
    "raw7 = raw6"
   ]
  },
  {
   "cell_type": "code",
   "execution_count": 116,
   "metadata": {},
   "outputs": [],
   "source": [
    "# Lemmatize the text - not work in simple form\n",
    "from nltk.stem import WordNetLemmatizer\n",
    "lemma = WordNetLemmatizer() #instantiate"
   ]
  },
  {
   "cell_type": "code",
   "execution_count": 118,
   "metadata": {},
   "outputs": [],
   "source": [
    "# lemma.lemmatize(raw7['text_fixed'])"
   ]
  },
  {
   "cell_type": "code",
   "execution_count": 60,
   "metadata": {},
   "outputs": [
    {
     "name": "stderr",
     "output_type": "stream",
     "text": [
      "[nltk_data] Downloading package averaged_perceptron_tagger to\n",
      "[nltk_data]     /Users/markp/nltk_data...\n",
      "[nltk_data]   Unzipping taggers/averaged_perceptron_tagger.zip.\n"
     ]
    },
    {
     "data": {
      "text/plain": [
       "True"
      ]
     },
     "execution_count": 60,
     "metadata": {},
     "output_type": "execute_result"
    }
   ],
   "source": [
    "nltk.download('averaged_perceptron_tagger')"
   ]
  },
  {
   "cell_type": "code",
   "execution_count": 119,
   "metadata": {},
   "outputs": [
    {
     "data": {
      "text/html": [
       "<div>\n",
       "<style scoped>\n",
       "    .dataframe tbody tr th:only-of-type {\n",
       "        vertical-align: middle;\n",
       "    }\n",
       "\n",
       "    .dataframe tbody tr th {\n",
       "        vertical-align: top;\n",
       "    }\n",
       "\n",
       "    .dataframe thead th {\n",
       "        text-align: right;\n",
       "    }\n",
       "</style>\n",
       "<table border=\"1\" class=\"dataframe\">\n",
       "  <thead>\n",
       "    <tr style=\"text-align: right;\">\n",
       "      <th></th>\n",
       "      <th>POS</th>\n",
       "      <th>word</th>\n",
       "    </tr>\n",
       "  </thead>\n",
       "  <tbody>\n",
       "    <tr>\n",
       "      <th>11</th>\n",
       "      <td>NN</td>\n",
       "      <td>9029</td>\n",
       "    </tr>\n",
       "    <tr>\n",
       "      <th>7</th>\n",
       "      <td>JJ</td>\n",
       "      <td>4944</td>\n",
       "    </tr>\n",
       "    <tr>\n",
       "      <th>13</th>\n",
       "      <td>NNS</td>\n",
       "      <td>2626</td>\n",
       "    </tr>\n",
       "    <tr>\n",
       "      <th>24</th>\n",
       "      <td>VBG</td>\n",
       "      <td>1476</td>\n",
       "    </tr>\n",
       "    <tr>\n",
       "      <th>26</th>\n",
       "      <td>VBP</td>\n",
       "      <td>1448</td>\n",
       "    </tr>\n",
       "    <tr>\n",
       "      <th>16</th>\n",
       "      <td>RB</td>\n",
       "      <td>1356</td>\n",
       "    </tr>\n",
       "    <tr>\n",
       "      <th>23</th>\n",
       "      <td>VBD</td>\n",
       "      <td>865</td>\n",
       "    </tr>\n",
       "    <tr>\n",
       "      <th>2</th>\n",
       "      <td>CD</td>\n",
       "      <td>705</td>\n",
       "    </tr>\n",
       "    <tr>\n",
       "      <th>22</th>\n",
       "      <td>VB</td>\n",
       "      <td>654</td>\n",
       "    </tr>\n",
       "    <tr>\n",
       "      <th>27</th>\n",
       "      <td>VBZ</td>\n",
       "      <td>588</td>\n",
       "    </tr>\n",
       "    <tr>\n",
       "      <th>6</th>\n",
       "      <td>IN</td>\n",
       "      <td>587</td>\n",
       "    </tr>\n",
       "    <tr>\n",
       "      <th>25</th>\n",
       "      <td>VBN</td>\n",
       "      <td>461</td>\n",
       "    </tr>\n",
       "    <tr>\n",
       "      <th>10</th>\n",
       "      <td>MD</td>\n",
       "      <td>171</td>\n",
       "    </tr>\n",
       "    <tr>\n",
       "      <th>9</th>\n",
       "      <td>JJS</td>\n",
       "      <td>102</td>\n",
       "    </tr>\n",
       "    <tr>\n",
       "      <th>12</th>\n",
       "      <td>NNP</td>\n",
       "      <td>80</td>\n",
       "    </tr>\n",
       "    <tr>\n",
       "      <th>3</th>\n",
       "      <td>DT</td>\n",
       "      <td>72</td>\n",
       "    </tr>\n",
       "    <tr>\n",
       "      <th>8</th>\n",
       "      <td>JJR</td>\n",
       "      <td>72</td>\n",
       "    </tr>\n",
       "    <tr>\n",
       "      <th>14</th>\n",
       "      <td>PRP</td>\n",
       "      <td>57</td>\n",
       "    </tr>\n",
       "    <tr>\n",
       "      <th>5</th>\n",
       "      <td>FW</td>\n",
       "      <td>50</td>\n",
       "    </tr>\n",
       "    <tr>\n",
       "      <th>17</th>\n",
       "      <td>RBR</td>\n",
       "      <td>36</td>\n",
       "    </tr>\n",
       "    <tr>\n",
       "      <th>19</th>\n",
       "      <td>RP</td>\n",
       "      <td>23</td>\n",
       "    </tr>\n",
       "    <tr>\n",
       "      <th>18</th>\n",
       "      <td>RBS</td>\n",
       "      <td>21</td>\n",
       "    </tr>\n",
       "    <tr>\n",
       "      <th>1</th>\n",
       "      <td>CC</td>\n",
       "      <td>17</td>\n",
       "    </tr>\n",
       "    <tr>\n",
       "      <th>20</th>\n",
       "      <td>TO</td>\n",
       "      <td>14</td>\n",
       "    </tr>\n",
       "    <tr>\n",
       "      <th>0</th>\n",
       "      <td>$</td>\n",
       "      <td>10</td>\n",
       "    </tr>\n",
       "    <tr>\n",
       "      <th>21</th>\n",
       "      <td>UH</td>\n",
       "      <td>9</td>\n",
       "    </tr>\n",
       "    <tr>\n",
       "      <th>29</th>\n",
       "      <td>WP</td>\n",
       "      <td>7</td>\n",
       "    </tr>\n",
       "    <tr>\n",
       "      <th>28</th>\n",
       "      <td>WDT</td>\n",
       "      <td>2</td>\n",
       "    </tr>\n",
       "    <tr>\n",
       "      <th>30</th>\n",
       "      <td>WRB</td>\n",
       "      <td>2</td>\n",
       "    </tr>\n",
       "    <tr>\n",
       "      <th>4</th>\n",
       "      <td>EX</td>\n",
       "      <td>1</td>\n",
       "    </tr>\n",
       "    <tr>\n",
       "      <th>15</th>\n",
       "      <td>PRP$</td>\n",
       "      <td>1</td>\n",
       "    </tr>\n",
       "  </tbody>\n",
       "</table>\n",
       "</div>"
      ],
      "text/plain": [
       "     POS  word\n",
       "11    NN  9029\n",
       "7     JJ  4944\n",
       "13   NNS  2626\n",
       "24   VBG  1476\n",
       "26   VBP  1448\n",
       "16    RB  1356\n",
       "23   VBD   865\n",
       "2     CD   705\n",
       "22    VB   654\n",
       "27   VBZ   588\n",
       "6     IN   587\n",
       "25   VBN   461\n",
       "10    MD   171\n",
       "9    JJS   102\n",
       "12   NNP    80\n",
       "3     DT    72\n",
       "8    JJR    72\n",
       "14   PRP    57\n",
       "5     FW    50\n",
       "17   RBR    36\n",
       "19    RP    23\n",
       "18   RBS    21\n",
       "1     CC    17\n",
       "20    TO    14\n",
       "0      $    10\n",
       "21    UH     9\n",
       "29    WP     7\n",
       "28   WDT     2\n",
       "30   WRB     2\n",
       "4     EX     1\n",
       "15  PRP$     1"
      ]
     },
     "execution_count": 119,
     "metadata": {},
     "output_type": "execute_result"
    }
   ],
   "source": [
    "# Looking at parts of speech (POS)\n",
    "tokens_pos = nltk.pos_tag(tokens)\n",
    "pos_df = pd.DataFrame(tokens_pos, columns = ('word','POS'))\n",
    "pos_sum = pos_df.groupby('POS', as_index=False).count() # group by POS tags\n",
    "pos_sum.sort_values(['word'], ascending=[False]) # in descending order of number of words per tag"
   ]
  },
  {
   "cell_type": "code",
   "execution_count": 120,
   "metadata": {},
   "outputs": [
    {
     "name": "stdout",
     "output_type": "stream",
     "text": [
      "11735\n"
     ]
    }
   ],
   "source": [
    "#POS: getting just the nouns\n",
    "filtered_pos = [ ]\n",
    "for one in tokens_pos:\n",
    "    if one[1] == 'NN' or one[1] == 'NNS' or one[1] == 'NNP' or one[1] == 'NNPS':\n",
    "        filtered_pos.append(one)\n",
    "print (len(filtered_pos))"
   ]
  },
  {
   "cell_type": "code",
   "execution_count": 124,
   "metadata": {},
   "outputs": [
    {
     "name": "stdout",
     "output_type": "stream",
     "text": [
      "[(('line', 'NN'), 131), (('time', 'NN'), 130), (('popup', 'NN'), 130), (('party', 'NN'), 112), (('circles', 'NNS'), 107), (('day', 'NN'), 105), (('people', 'NNS'), 95), (('maps', 'NNS'), 89), (('launch', 'NN'), 87), (('network', 'NN'), 83), (('thanks', 'NNS'), 72), (('im', 'NN'), 67), (('users', 'NNS'), 64), (('dont', 'NN'), 64), (('design', 'NN'), 55), (('mayer', 'NN'), 55), (('technology', 'NN'), 52), (('downtown', 'NN'), 50), (('ûïmention', 'NN'), 49), (('news', 'NN'), 47), (('get', 'NN'), 44), (('year', 'NN'), 44), (('shop', 'NN'), 44), (('video', 'NN'), 44), (('game', 'NN'), 42), (('team', 'NN'), 42), (('check', 'NN'), 42), (('panel', 'NN'), 42), (('way', 'NN'), 42), (('love', 'NN'), 40), (('wins', 'NNS'), 40), (('phone', 'NN'), 39), (('pop', 'NN'), 39), (('ones', 'NNS'), 39), (('case', 'NN'), 38), (('thing', 'NN'), 38), (('everyone', 'NN'), 38), (('week', 'NN'), 37), (('session', 'NN'), 36), (('search', 'NN'), 35), (('years', 'NNS'), 33), (('music', 'NN'), 32), (('wait', 'NN'), 31), (('rumor', 'NN'), 31), (('marketing', 'NN'), 30), (('talk', 'NN'), 30), (('use', 'NN'), 30), (('tomorrow', 'NN'), 29), (('life', 'NN'), 29), (('fun', 'NN'), 27)]\n"
     ]
    }
   ],
   "source": [
    "#POS: the 100 most common nouns\n",
    "fdist_pos = nltk.FreqDist(filtered_pos)\n",
    "top_100_words = fdist_pos.most_common(50)\n",
    "print(top_100_words)"
   ]
  },
  {
   "cell_type": "code",
   "execution_count": 125,
   "metadata": {},
   "outputs": [
    {
     "data": {
      "text/html": [
       "<div>\n",
       "<style scoped>\n",
       "    .dataframe tbody tr th:only-of-type {\n",
       "        vertical-align: middle;\n",
       "    }\n",
       "\n",
       "    .dataframe tbody tr th {\n",
       "        vertical-align: top;\n",
       "    }\n",
       "\n",
       "    .dataframe thead th {\n",
       "        text-align: right;\n",
       "    }\n",
       "</style>\n",
       "<table border=\"1\" class=\"dataframe\">\n",
       "  <thead>\n",
       "    <tr style=\"text-align: right;\">\n",
       "      <th></th>\n",
       "      <th>count</th>\n",
       "      <th>Word</th>\n",
       "    </tr>\n",
       "  </thead>\n",
       "  <tbody>\n",
       "    <tr>\n",
       "      <th>0</th>\n",
       "      <td>131</td>\n",
       "      <td>line</td>\n",
       "    </tr>\n",
       "    <tr>\n",
       "      <th>1</th>\n",
       "      <td>130</td>\n",
       "      <td>time</td>\n",
       "    </tr>\n",
       "    <tr>\n",
       "      <th>2</th>\n",
       "      <td>130</td>\n",
       "      <td>popup</td>\n",
       "    </tr>\n",
       "    <tr>\n",
       "      <th>3</th>\n",
       "      <td>112</td>\n",
       "      <td>party</td>\n",
       "    </tr>\n",
       "    <tr>\n",
       "      <th>4</th>\n",
       "      <td>107</td>\n",
       "      <td>circles</td>\n",
       "    </tr>\n",
       "    <tr>\n",
       "      <th>5</th>\n",
       "      <td>105</td>\n",
       "      <td>day</td>\n",
       "    </tr>\n",
       "    <tr>\n",
       "      <th>6</th>\n",
       "      <td>95</td>\n",
       "      <td>people</td>\n",
       "    </tr>\n",
       "    <tr>\n",
       "      <th>7</th>\n",
       "      <td>89</td>\n",
       "      <td>maps</td>\n",
       "    </tr>\n",
       "    <tr>\n",
       "      <th>8</th>\n",
       "      <td>87</td>\n",
       "      <td>launch</td>\n",
       "    </tr>\n",
       "    <tr>\n",
       "      <th>9</th>\n",
       "      <td>83</td>\n",
       "      <td>network</td>\n",
       "    </tr>\n",
       "    <tr>\n",
       "      <th>10</th>\n",
       "      <td>72</td>\n",
       "      <td>thanks</td>\n",
       "    </tr>\n",
       "    <tr>\n",
       "      <th>11</th>\n",
       "      <td>67</td>\n",
       "      <td>im</td>\n",
       "    </tr>\n",
       "    <tr>\n",
       "      <th>12</th>\n",
       "      <td>64</td>\n",
       "      <td>users</td>\n",
       "    </tr>\n",
       "    <tr>\n",
       "      <th>13</th>\n",
       "      <td>64</td>\n",
       "      <td>dont</td>\n",
       "    </tr>\n",
       "    <tr>\n",
       "      <th>14</th>\n",
       "      <td>55</td>\n",
       "      <td>design</td>\n",
       "    </tr>\n",
       "    <tr>\n",
       "      <th>15</th>\n",
       "      <td>55</td>\n",
       "      <td>mayer</td>\n",
       "    </tr>\n",
       "    <tr>\n",
       "      <th>16</th>\n",
       "      <td>52</td>\n",
       "      <td>technology</td>\n",
       "    </tr>\n",
       "    <tr>\n",
       "      <th>17</th>\n",
       "      <td>50</td>\n",
       "      <td>downtown</td>\n",
       "    </tr>\n",
       "    <tr>\n",
       "      <th>18</th>\n",
       "      <td>49</td>\n",
       "      <td>ûïmention</td>\n",
       "    </tr>\n",
       "    <tr>\n",
       "      <th>19</th>\n",
       "      <td>47</td>\n",
       "      <td>news</td>\n",
       "    </tr>\n",
       "    <tr>\n",
       "      <th>20</th>\n",
       "      <td>44</td>\n",
       "      <td>get</td>\n",
       "    </tr>\n",
       "    <tr>\n",
       "      <th>21</th>\n",
       "      <td>44</td>\n",
       "      <td>year</td>\n",
       "    </tr>\n",
       "    <tr>\n",
       "      <th>22</th>\n",
       "      <td>44</td>\n",
       "      <td>shop</td>\n",
       "    </tr>\n",
       "    <tr>\n",
       "      <th>23</th>\n",
       "      <td>44</td>\n",
       "      <td>video</td>\n",
       "    </tr>\n",
       "    <tr>\n",
       "      <th>24</th>\n",
       "      <td>42</td>\n",
       "      <td>game</td>\n",
       "    </tr>\n",
       "  </tbody>\n",
       "</table>\n",
       "</div>"
      ],
      "text/plain": [
       "    count        Word\n",
       "0     131        line\n",
       "1     130        time\n",
       "2     130       popup\n",
       "3     112       party\n",
       "4     107     circles\n",
       "5     105         day\n",
       "6      95      people\n",
       "7      89        maps\n",
       "8      87      launch\n",
       "9      83     network\n",
       "10     72      thanks\n",
       "11     67          im\n",
       "12     64       users\n",
       "13     64        dont\n",
       "14     55      design\n",
       "15     55       mayer\n",
       "16     52  technology\n",
       "17     50    downtown\n",
       "18     49   ûïmention\n",
       "19     47        news\n",
       "20     44         get\n",
       "21     44        year\n",
       "22     44        shop\n",
       "23     44       video\n",
       "24     42        game"
      ]
     },
     "execution_count": 125,
     "metadata": {},
     "output_type": "execute_result"
    }
   ],
   "source": [
    "top_words_df = pd.DataFrame(top_100_words, columns = ('pos','count'))\n",
    "top_words_df['Word'] = top_words_df['pos'].apply(lambda x: x[0]) # split the tuple of POS\n",
    "top_words_df = top_words_df.drop('pos', 1) # drop the previous column\n",
    "top_words_df.head(25)"
   ]
  },
  {
   "cell_type": "code",
   "execution_count": 123,
   "metadata": {},
   "outputs": [],
   "source": [
    "# top_words_df.head(50)"
   ]
  },
  {
   "cell_type": "code",
   "execution_count": 126,
   "metadata": {},
   "outputs": [
    {
     "data": {
      "image/png": "[encoded data removed]",
      "text/plain": [
       "<Figure size 1080x1296 with 1 Axes>"
      ]
     },
     "metadata": {
      "needs_background": "light"
     },
     "output_type": "display_data"
    }
   ],
   "source": [
    "# The chart shows top 50 words - without stop words\n",
    "fig, ax = plt.subplots(figsize=(15,18))\n",
    "top_words_df.sort_values(by='count').plot.barh(x='Word', y='count', ax=ax, color=\"purple\")\n",
    "ax.set_title(\"Common Words Found in Tweets (Without Stop Words)\")\n",
    "plt.show()"
   ]
  },
  {
   "cell_type": "code",
   "execution_count": 71,
   "metadata": {},
   "outputs": [],
   "source": [
    "# Take a look at a word cloud\n",
    "import textblob\n",
    "import wordcloud\n",
    "from textblob import TextBlob, Word\n",
    "from wordcloud import WordCloud"
   ]
  },
  {
   "cell_type": "code",
   "execution_count": 127,
   "metadata": {},
   "outputs": [
    {
     "name": "stdout",
     "output_type": "stream",
     "text": [
      "<class 'str'>\n"
     ]
    }
   ],
   "source": [
    "word_counts = ' '.join(top_words_df['Word'].tolist())\n",
    "print(type(word_counts))"
   ]
  },
  {
   "cell_type": "code",
   "execution_count": 128,
   "metadata": {},
   "outputs": [
    {
     "data": {
      "image/png": "[encoded data removed]",
      "text/plain": [
       "<Figure size 1152x720 with 1 Axes>"
      ]
     },
     "metadata": {
      "needs_background": "light"
     },
     "output_type": "display_data"
    }
   ],
   "source": [
    "# Plot is of top 50 words - same data as chart above. \n",
    "plt.figure(figsize=(16,10))\n",
    "wordcloud = WordCloud(width=800, height=500, max_font_size=80).generate(word_counts)\n",
    "plt.imshow(wordcloud, interpolation='bilinear')\n",
    "plt.axis('off')\n",
    "# plt.title('Top Words in Tweet Set')\n",
    "plt.show()"
   ]
  },
  {
   "cell_type": "markdown",
   "metadata": {},
   "source": [
    "#### Observations on initial word counts\n",
    "Initially, when we did not remove unique stop words, we could see from the list, barchart and word cloud that there was a lot of prodcut names and company names and a few things related to the conference process itself. Also we need to keep in mind this is for ALL texts so it is mostly the ones with positive sentiment. Also need to keep in mind that this is just the token counts... so not the result of TF-IDF or running a classificaltion model. \n",
    "\n",
    "UPDATE: After removing the 32 unique stopwords some terms with a bit more meaning are showing up in the chart nd word cloud. These are things like specific apps or features that launched at SXSWi - circles, maps, news, and also references to the lines and going downtown to the Apple popup store (to get the new iPad2). Later we will look at word clouds specific to the sentiment and the company. "
   ]
  },
  {
   "cell_type": "markdown",
   "metadata": {},
   "source": [
    "## On to Classification Modeling..."
   ]
  }
 ],
 "metadata": {
  "kernelspec": {
   "display_name": "Python 3",
   "language": "python",
   "name": "python3"
  },
  "language_info": {
   "codemirror_mode": {
    "name": "ipython",
    "version": 3
   },
   "file_extension": ".py",
   "mimetype": "text/x-python",
   "name": "python",
   "nbconvert_exporter": "python",
   "pygments_lexer": "ipython3",
   "version": "3.6.9"
  }
 },
 "nbformat": 4,
 "nbformat_minor": 4
}
